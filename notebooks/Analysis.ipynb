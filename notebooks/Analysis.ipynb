{
 "cells": [
  {
   "cell_type": "code",
   "execution_count": 6,
   "id": "3a93164e-91a6-4752-a946-8a32d4eaa81e",
   "metadata": {},
   "outputs": [],
   "source": [
    "import numpy as np\n",
    "import s3fs\n",
    "import requests\n",
    "import pandas as pd\n",
    "import zipfile\n",
    "import io\n",
    "import matplotlib.pyplot as plt \n",
    "import plotly.express as px\n",
    "import seaborn as sns"
   ]
  },
  {
   "cell_type": "code",
   "execution_count": 7,
   "id": "f004f432-fa63-415b-991b-49fa5cee47f4",
   "metadata": {},
   "outputs": [],
   "source": [
    "month_list = ['January', 'February', 'March', 'April', 'May', 'June', 'July', 'August', 'September', \n",
    "              'October', 'November', 'December']\n",
    "def print_csv_names(bucket_name, file_name):\n",
    "    path_to_file = f'../data/{bucket_name}/{file_name}'\n",
    "    zip_file = zipfile.ZipFile(path_to_file)\n",
    "    fs = {month: {} for month in month_list}\n",
    "    zip_file.printdir()\n",
    "    print('\\n')\n",
    "    for text_file in zip_file.infolist():\n",
    "        if text_file.filename.endswith('.csv'):\n",
    "            print(text_file.filename)"
   ]
  },
  {
   "cell_type": "code",
   "execution_count": 8,
   "id": "0c178cab-f537-4f59-934b-96aac931d850",
   "metadata": {},
   "outputs": [
    {
     "name": "stdout",
     "output_type": "stream",
     "text": [
      "File Name                                             Modified             Size\n",
      "2013-citibike-tripdata/                        2024-02-22 00:06:56            0\n",
      "2013-citibike-tripdata/4_April/                2024-02-14 10:09:16            0\n",
      "2013-citibike-tripdata/12_December/            2024-02-22 00:03:04            0\n",
      "2013-citibike-tripdata/.DS_Store               2024-02-22 00:07:16        12292\n",
      "__MACOSX/2013-citibike-tripdata/._.DS_Store    2024-02-22 00:07:16          120\n",
      "2013-citibike-tripdata/201309-citibike-tripdata.csv 2014-03-27 23:40:34    201965642\n",
      "__MACOSX/2013-citibike-tripdata/._201309-citibike-tripdata.csv 2014-03-27 23:40:34          276\n",
      "2013-citibike-tripdata/11_November/            2024-02-22 00:03:00            0\n",
      "2013-citibike-tripdata/7_July/                 2024-02-22 00:02:38            0\n",
      "2013-citibike-tripdata/201311-citibike-tripdata.csv 2014-03-27 23:43:44    131891356\n",
      "__MACOSX/2013-citibike-tripdata/._201311-citibike-tripdata.csv 2014-03-27 23:43:44          276\n",
      "2013-citibike-tripdata/201307-citibike-tripdata.csv 2014-03-27 23:35:46    164438561\n",
      "__MACOSX/2013-citibike-tripdata/._201307-citibike-tripdata.csv 2014-03-27 23:35:46          276\n",
      "2013-citibike-tripdata/10_October/             2024-02-22 00:02:56            0\n",
      "2013-citibike-tripdata/9_September/            2024-02-22 00:02:50            0\n",
      "2013-citibike-tripdata/8_August/               2024-02-22 00:02:46            0\n",
      "2013-citibike-tripdata/6_June/                 2024-02-21 23:58:36            0\n",
      "2013-citibike-tripdata/3_March/                2024-02-14 10:09:08            0\n",
      "2013-citibike-tripdata/201308-citibike-tripdata.csv 2014-03-27 23:38:10    195523200\n",
      "__MACOSX/2013-citibike-tripdata/._201308-citibike-tripdata.csv 2014-03-27 23:38:10          276\n",
      "2013-citibike-tripdata/1_January/              2024-02-14 10:08:56            0\n",
      "2013-citibike-tripdata/201306-citibike-tripdata.csv 2018-04-27 14:06:34    100938999\n",
      "__MACOSX/2013-citibike-tripdata/._201306-citibike-tripdata.csv 2018-04-27 14:06:34          332\n",
      "2013-citibike-tripdata/201310-citibike-tripdata.csv 2014-03-27 23:42:32    202728202\n",
      "__MACOSX/2013-citibike-tripdata/._201310-citibike-tripdata.csv 2014-03-27 23:42:32          276\n",
      "2013-citibike-tripdata/2_February/             2024-02-14 10:09:04            0\n",
      "2013-citibike-tripdata/5_May/                  2024-02-14 10:09:20            0\n",
      "2013-citibike-tripdata/201312-citibike-tripdata.csv 2014-03-27 23:44:40     86622375\n",
      "__MACOSX/2013-citibike-tripdata/._201312-citibike-tripdata.csv 2014-03-27 23:44:40          276\n",
      "2013-citibike-tripdata/12_December/201312-citibike-tripdata_1.csv 2024-02-22 00:02:38     72898156\n",
      "2013-citibike-tripdata/11_November/201311-citibike-tripdata_1.csv 2024-02-22 00:01:38    111030275\n",
      "2013-citibike-tripdata/7_July/201307-citibike-tripdata_1.csv 2024-02-21 23:58:40    138642408\n",
      "2013-citibike-tripdata/10_October/201310-citibike-tripdata_2.csv 2024-02-22 00:01:14      6204540\n",
      "2013-citibike-tripdata/10_October/201310-citibike-tripdata_1.csv 2024-02-22 00:01:14    164549673\n",
      "2013-citibike-tripdata/9_September/201309-citibike-tripdata_2.csv 2024-02-22 00:00:48      5652688\n",
      "2013-citibike-tripdata/9_September/201309-citibike-tripdata_1.csv 2024-02-22 00:00:48    164538356\n",
      "2013-citibike-tripdata/8_August/201308-citibike-tripdata_1.csv 2024-02-21 23:59:00    164512706\n",
      "2013-citibike-tripdata/8_August/201308-citibike-tripdata_2.csv 2024-02-21 23:59:00       322017\n",
      "2013-citibike-tripdata/6_June/201306-citibike-tripdata_1.csv 2024-02-21 23:58:24     95736668\n",
      "__MACOSX/2013-citibike-tripdata/6_June/._201306-citibike-tripdata_1.csv 2024-02-21 23:58:24          244\n",
      "\n",
      "\n",
      "2013-citibike-tripdata/201309-citibike-tripdata.csv\n",
      "__MACOSX/2013-citibike-tripdata/._201309-citibike-tripdata.csv\n",
      "2013-citibike-tripdata/201311-citibike-tripdata.csv\n",
      "__MACOSX/2013-citibike-tripdata/._201311-citibike-tripdata.csv\n",
      "2013-citibike-tripdata/201307-citibike-tripdata.csv\n",
      "__MACOSX/2013-citibike-tripdata/._201307-citibike-tripdata.csv\n",
      "2013-citibike-tripdata/201308-citibike-tripdata.csv\n",
      "__MACOSX/2013-citibike-tripdata/._201308-citibike-tripdata.csv\n",
      "2013-citibike-tripdata/201306-citibike-tripdata.csv\n",
      "__MACOSX/2013-citibike-tripdata/._201306-citibike-tripdata.csv\n",
      "2013-citibike-tripdata/201310-citibike-tripdata.csv\n",
      "__MACOSX/2013-citibike-tripdata/._201310-citibike-tripdata.csv\n",
      "2013-citibike-tripdata/201312-citibike-tripdata.csv\n",
      "__MACOSX/2013-citibike-tripdata/._201312-citibike-tripdata.csv\n",
      "2013-citibike-tripdata/12_December/201312-citibike-tripdata_1.csv\n",
      "2013-citibike-tripdata/11_November/201311-citibike-tripdata_1.csv\n",
      "2013-citibike-tripdata/7_July/201307-citibike-tripdata_1.csv\n",
      "2013-citibike-tripdata/10_October/201310-citibike-tripdata_2.csv\n",
      "2013-citibike-tripdata/10_October/201310-citibike-tripdata_1.csv\n",
      "2013-citibike-tripdata/9_September/201309-citibike-tripdata_2.csv\n",
      "2013-citibike-tripdata/9_September/201309-citibike-tripdata_1.csv\n",
      "2013-citibike-tripdata/8_August/201308-citibike-tripdata_1.csv\n",
      "2013-citibike-tripdata/8_August/201308-citibike-tripdata_2.csv\n",
      "2013-citibike-tripdata/6_June/201306-citibike-tripdata_1.csv\n",
      "__MACOSX/2013-citibike-tripdata/6_June/._201306-citibike-tripdata_1.csv\n"
     ]
    }
   ],
   "source": [
    "print_csv_names('tripdata', '2013-citibike-tripdata.zip')\n",
    "#'2013-citibike-tripdata/1_January/201301-citibike-tripdata_1.csv'"
   ]
  },
  {
   "cell_type": "code",
   "execution_count": 9,
   "id": "18d20c5c-704c-4ac8-97a1-dca293c95be6",
   "metadata": {},
   "outputs": [
    {
     "name": "stdout",
     "output_type": "stream",
     "text": [
      "File Name                                             Modified             Size\n",
      "2020-citibike-tripdata/                        2024-07-31 14:12:48            0\n",
      "2020-citibike-tripdata/202004-citibike-tripdata.zip 2024-07-31 13:33:20    126390478\n",
      "2020-citibike-tripdata/202012-citibike-tripdata.zip 2024-07-31 14:09:08    201516988\n",
      "2020-citibike-tripdata/202006-citibike-tripdata.zip 2024-07-31 13:35:56    349051345\n",
      "2020-citibike-tripdata/202010-citibike-tripdata.zip 2024-07-31 14:02:40    416597861\n",
      "2020-citibike-tripdata/202008-citibike-tripdata.zip 2024-07-31 13:38:28    431507576\n",
      "2020-citibike-tripdata/202002-citibike-tripdata.zip 2024-07-31 13:30:00    210735600\n",
      "2020-citibike-tripdata/202005-citibike-tripdata.zip 2024-07-31 13:34:12    275943573\n",
      "2020-citibike-tripdata/202011-citibike-tripdata.zip 2024-07-31 13:43:46    322004214\n",
      "2020-citibike-tripdata/202007-citibike-tripdata.zip 2024-07-31 13:37:12    389607634\n",
      "2020-citibike-tripdata/202009-citibike-tripdata.zip 2024-07-31 13:40:56    460978515\n",
      "2020-citibike-tripdata/202001-citibike-tripdata.zip 2024-07-31 13:27:28    227850038\n",
      "2020-citibike-tripdata/202003-citibike-tripdata.zip 2024-07-31 13:32:28    196992627\n",
      "\n",
      "\n"
     ]
    }
   ],
   "source": [
    "print_csv_names('tripdata', '2020-citibike-tripdata.zip')"
   ]
  },
  {
   "cell_type": "markdown",
   "id": "4529d600-6c83-4f21-bead-eaf830edfecf",
   "metadata": {},
   "source": [
    "# Inconsistencies in citibike file naming:\n",
    "\n",
    "- Three different formats:\n",
    "\n",
    "2013-citibike-tripdata/7_July/201307-citibike-tripdata_1.csv, sometimes 2013-citibike-tripdata/7_July/201307-citibike-tripdata_2.csv exists\n",
    "\n",
    "- In 2017, files are named .csv_1.csv and .csv_2.csv:\n",
    "\n",
    "2017-citibike-tripdata/7_July/201707-citibike-tripdata.csv_1.csv\n",
    "\n",
    "- After 2019 files are also named different.\n",
    "2020-citibike-tripdata/202008-citibike-tripdata.zip"
   ]
  },
  {
   "cell_type": "code",
   "execution_count": 10,
   "id": "683cb606-3f1a-43ab-bd1e-cb86da4e2c3a",
   "metadata": {},
   "outputs": [],
   "source": [
    "# Test methods \n",
    "month_list_short = [month[:3] for month in month_list]\n",
    "month_dict = {month: f\"{i + 1}\" for i, month in enumerate(month_list)}\n",
    "\n",
    "\n",
    "def get_test_data():\n",
    "    with zipfile.ZipFile('../data/tripdata/2013-citibike-tripdata.zip', 'r') as zip_file:\n",
    "        month_df = pd.read_csv(zip_file.open('2013-citibike-tripdata/201306-citibike-tripdata.csv'), encoding='latin-1')\n",
    "    return month_df\n",
    "    \n",
    "def get_test_data_2023():\n",
    "    with zipfile.ZipFile('../data/tripdata/2023-citibike-tripdata.zip', 'r') as zip_file:\n",
    "        month_df = pd.read_csv(zip_file.open('2023-citibike-tripdata/202301-citibike-tripdata.zip'), encoding='latin-1')\n",
    "    return month_df\n",
    "\n",
    "# Prints column names for each year given a single month\n",
    "def get_col_names_per_year(month='June'):\n",
    "    for year in range(2013, 2024):\n",
    "        print(year)\n",
    "        with zipfile.ZipFile(f'../data/tripdata/{year}-citibike-tripdata.zip', 'r') as zip_file:\n",
    "            if year == 2017:\n",
    "                month_df = pd.read_csv(zip_file.open(f'{year}-citibike-tripdata/6_June/{year}06-citibike-tripdata.csv_1.csv'), encoding='latin-1')\n",
    "\n",
    "            elif year < 2020:\n",
    "                month_df = pd.read_csv(zip_file.open(f'{year}-citibike-tripdata/{month_dict[month]}_{month}/{year}{int(month_dict[month]):02d}-citibike-tripdata_1.csv'), encoding='latin-1')\n",
    "            else:\n",
    "                month_df = pd.read_csv(zip_file.open(f'{year}-citibike-tripdata/{year}{int(month_dict[month]):02d}-citibike-tripdata.zip'), encoding='latin-1')\n",
    "\n",
    "        print(month_df.columns)\n"
   ]
  },
  {
   "cell_type": "code",
   "execution_count": 11,
   "id": "fec1169b-c588-486e-82ae-037b145980c2",
   "metadata": {},
   "outputs": [],
   "source": [
    "test_df = get_test_data()"
   ]
  },
  {
   "cell_type": "code",
   "execution_count": 12,
   "id": "a1211511-96a8-49dd-ab10-002b5de8c2e0",
   "metadata": {},
   "outputs": [
    {
     "data": {
      "text/html": [
       "<div>\n",
       "<style scoped>\n",
       "    .dataframe tbody tr th:only-of-type {\n",
       "        vertical-align: middle;\n",
       "    }\n",
       "\n",
       "    .dataframe tbody tr th {\n",
       "        vertical-align: top;\n",
       "    }\n",
       "\n",
       "    .dataframe thead th {\n",
       "        text-align: right;\n",
       "    }\n",
       "</style>\n",
       "<table border=\"1\" class=\"dataframe\">\n",
       "  <thead>\n",
       "    <tr style=\"text-align: right;\">\n",
       "      <th></th>\n",
       "      <th>tripduration</th>\n",
       "      <th>starttime</th>\n",
       "      <th>stoptime</th>\n",
       "      <th>start station id</th>\n",
       "      <th>start station name</th>\n",
       "      <th>start station latitude</th>\n",
       "      <th>start station longitude</th>\n",
       "      <th>end station id</th>\n",
       "      <th>end station name</th>\n",
       "      <th>end station latitude</th>\n",
       "      <th>end station longitude</th>\n",
       "      <th>bikeid</th>\n",
       "      <th>usertype</th>\n",
       "      <th>birth year</th>\n",
       "      <th>gender</th>\n",
       "    </tr>\n",
       "  </thead>\n",
       "  <tbody>\n",
       "    <tr>\n",
       "      <th>0</th>\n",
       "      <td>695</td>\n",
       "      <td>2013-06-01 00:00:01</td>\n",
       "      <td>2013-06-01 00:11:36</td>\n",
       "      <td>444</td>\n",
       "      <td>Broadway &amp; W 24 St</td>\n",
       "      <td>40.742354</td>\n",
       "      <td>-73.989151</td>\n",
       "      <td>434.0</td>\n",
       "      <td>9 Ave &amp; W 18 St</td>\n",
       "      <td>40.743174</td>\n",
       "      <td>-74.003664</td>\n",
       "      <td>19678</td>\n",
       "      <td>Subscriber</td>\n",
       "      <td>1983.0</td>\n",
       "      <td>1</td>\n",
       "    </tr>\n",
       "    <tr>\n",
       "      <th>1</th>\n",
       "      <td>693</td>\n",
       "      <td>2013-06-01 00:00:08</td>\n",
       "      <td>2013-06-01 00:11:41</td>\n",
       "      <td>444</td>\n",
       "      <td>Broadway &amp; W 24 St</td>\n",
       "      <td>40.742354</td>\n",
       "      <td>-73.989151</td>\n",
       "      <td>434.0</td>\n",
       "      <td>9 Ave &amp; W 18 St</td>\n",
       "      <td>40.743174</td>\n",
       "      <td>-74.003664</td>\n",
       "      <td>16649</td>\n",
       "      <td>Subscriber</td>\n",
       "      <td>1984.0</td>\n",
       "      <td>1</td>\n",
       "    </tr>\n",
       "    <tr>\n",
       "      <th>2</th>\n",
       "      <td>2059</td>\n",
       "      <td>2013-06-01 00:00:44</td>\n",
       "      <td>2013-06-01 00:35:03</td>\n",
       "      <td>406</td>\n",
       "      <td>Hicks St &amp; Montague St</td>\n",
       "      <td>40.695128</td>\n",
       "      <td>-73.995951</td>\n",
       "      <td>406.0</td>\n",
       "      <td>Hicks St &amp; Montague St</td>\n",
       "      <td>40.695128</td>\n",
       "      <td>-73.995951</td>\n",
       "      <td>19599</td>\n",
       "      <td>Customer</td>\n",
       "      <td>NaN</td>\n",
       "      <td>0</td>\n",
       "    </tr>\n",
       "    <tr>\n",
       "      <th>3</th>\n",
       "      <td>123</td>\n",
       "      <td>2013-06-01 00:01:04</td>\n",
       "      <td>2013-06-01 00:03:07</td>\n",
       "      <td>475</td>\n",
       "      <td>E 15 St &amp; Irving Pl</td>\n",
       "      <td>40.735243</td>\n",
       "      <td>-73.987586</td>\n",
       "      <td>262.0</td>\n",
       "      <td>Washington Park</td>\n",
       "      <td>40.691782</td>\n",
       "      <td>-73.973730</td>\n",
       "      <td>16352</td>\n",
       "      <td>Subscriber</td>\n",
       "      <td>1960.0</td>\n",
       "      <td>1</td>\n",
       "    </tr>\n",
       "    <tr>\n",
       "      <th>4</th>\n",
       "      <td>1521</td>\n",
       "      <td>2013-06-01 00:01:22</td>\n",
       "      <td>2013-06-01 00:26:43</td>\n",
       "      <td>2008</td>\n",
       "      <td>Little West St &amp; 1 Pl</td>\n",
       "      <td>40.705693</td>\n",
       "      <td>-74.016777</td>\n",
       "      <td>310.0</td>\n",
       "      <td>State St &amp; Smith St</td>\n",
       "      <td>40.689269</td>\n",
       "      <td>-73.989129</td>\n",
       "      <td>15567</td>\n",
       "      <td>Subscriber</td>\n",
       "      <td>1983.0</td>\n",
       "      <td>1</td>\n",
       "    </tr>\n",
       "    <tr>\n",
       "      <th>5</th>\n",
       "      <td>2028</td>\n",
       "      <td>2013-06-01 00:01:47</td>\n",
       "      <td>2013-06-01 00:35:35</td>\n",
       "      <td>485</td>\n",
       "      <td>W 37 St &amp; 5 Ave</td>\n",
       "      <td>40.750380</td>\n",
       "      <td>-73.983390</td>\n",
       "      <td>406.0</td>\n",
       "      <td>Hicks St &amp; Montague St</td>\n",
       "      <td>40.695128</td>\n",
       "      <td>-73.995951</td>\n",
       "      <td>18445</td>\n",
       "      <td>Customer</td>\n",
       "      <td>NaN</td>\n",
       "      <td>0</td>\n",
       "    </tr>\n",
       "    <tr>\n",
       "      <th>6</th>\n",
       "      <td>2057</td>\n",
       "      <td>2013-06-01 00:02:33</td>\n",
       "      <td>2013-06-01 00:36:50</td>\n",
       "      <td>285</td>\n",
       "      <td>Broadway &amp; E 14 St</td>\n",
       "      <td>40.734546</td>\n",
       "      <td>-73.990741</td>\n",
       "      <td>532.0</td>\n",
       "      <td>S 5 Pl &amp; S 5 St</td>\n",
       "      <td>40.710451</td>\n",
       "      <td>-73.960876</td>\n",
       "      <td>15693</td>\n",
       "      <td>Subscriber</td>\n",
       "      <td>1991.0</td>\n",
       "      <td>1</td>\n",
       "    </tr>\n",
       "    <tr>\n",
       "      <th>7</th>\n",
       "      <td>369</td>\n",
       "      <td>2013-06-01 00:03:29</td>\n",
       "      <td>2013-06-01 00:09:38</td>\n",
       "      <td>509</td>\n",
       "      <td>9 Ave &amp; W 22 St</td>\n",
       "      <td>40.745497</td>\n",
       "      <td>-74.001971</td>\n",
       "      <td>521.0</td>\n",
       "      <td>8 Ave &amp; W 31 St N</td>\n",
       "      <td>40.750967</td>\n",
       "      <td>-73.994442</td>\n",
       "      <td>16100</td>\n",
       "      <td>Subscriber</td>\n",
       "      <td>1981.0</td>\n",
       "      <td>1</td>\n",
       "    </tr>\n",
       "    <tr>\n",
       "      <th>8</th>\n",
       "      <td>1829</td>\n",
       "      <td>2013-06-01 00:03:47</td>\n",
       "      <td>2013-06-01 00:34:16</td>\n",
       "      <td>265</td>\n",
       "      <td>Stanton St &amp; Chrystie St</td>\n",
       "      <td>40.722293</td>\n",
       "      <td>-73.991475</td>\n",
       "      <td>436.0</td>\n",
       "      <td>Hancock St &amp; Bedford Ave</td>\n",
       "      <td>40.682166</td>\n",
       "      <td>-73.953990</td>\n",
       "      <td>15234</td>\n",
       "      <td>Subscriber</td>\n",
       "      <td>1984.0</td>\n",
       "      <td>1</td>\n",
       "    </tr>\n",
       "    <tr>\n",
       "      <th>9</th>\n",
       "      <td>829</td>\n",
       "      <td>2013-06-01 00:04:22</td>\n",
       "      <td>2013-06-01 00:18:11</td>\n",
       "      <td>404</td>\n",
       "      <td>9 Ave &amp; W 14 St</td>\n",
       "      <td>40.740583</td>\n",
       "      <td>-74.005509</td>\n",
       "      <td>303.0</td>\n",
       "      <td>Mercer St &amp; Spring St</td>\n",
       "      <td>40.723627</td>\n",
       "      <td>-73.999496</td>\n",
       "      <td>16400</td>\n",
       "      <td>Subscriber</td>\n",
       "      <td>1987.0</td>\n",
       "      <td>1</td>\n",
       "    </tr>\n",
       "  </tbody>\n",
       "</table>\n",
       "</div>"
      ],
      "text/plain": [
       "   tripduration            starttime             stoptime  start station id  \\\n",
       "0           695  2013-06-01 00:00:01  2013-06-01 00:11:36               444   \n",
       "1           693  2013-06-01 00:00:08  2013-06-01 00:11:41               444   \n",
       "2          2059  2013-06-01 00:00:44  2013-06-01 00:35:03               406   \n",
       "3           123  2013-06-01 00:01:04  2013-06-01 00:03:07               475   \n",
       "4          1521  2013-06-01 00:01:22  2013-06-01 00:26:43              2008   \n",
       "5          2028  2013-06-01 00:01:47  2013-06-01 00:35:35               485   \n",
       "6          2057  2013-06-01 00:02:33  2013-06-01 00:36:50               285   \n",
       "7           369  2013-06-01 00:03:29  2013-06-01 00:09:38               509   \n",
       "8          1829  2013-06-01 00:03:47  2013-06-01 00:34:16               265   \n",
       "9           829  2013-06-01 00:04:22  2013-06-01 00:18:11               404   \n",
       "\n",
       "         start station name  start station latitude  start station longitude  \\\n",
       "0        Broadway & W 24 St               40.742354               -73.989151   \n",
       "1        Broadway & W 24 St               40.742354               -73.989151   \n",
       "2    Hicks St & Montague St               40.695128               -73.995951   \n",
       "3       E 15 St & Irving Pl               40.735243               -73.987586   \n",
       "4     Little West St & 1 Pl               40.705693               -74.016777   \n",
       "5           W 37 St & 5 Ave               40.750380               -73.983390   \n",
       "6        Broadway & E 14 St               40.734546               -73.990741   \n",
       "7           9 Ave & W 22 St               40.745497               -74.001971   \n",
       "8  Stanton St & Chrystie St               40.722293               -73.991475   \n",
       "9           9 Ave & W 14 St               40.740583               -74.005509   \n",
       "\n",
       "   end station id          end station name  end station latitude  \\\n",
       "0           434.0           9 Ave & W 18 St             40.743174   \n",
       "1           434.0           9 Ave & W 18 St             40.743174   \n",
       "2           406.0    Hicks St & Montague St             40.695128   \n",
       "3           262.0           Washington Park             40.691782   \n",
       "4           310.0       State St & Smith St             40.689269   \n",
       "5           406.0    Hicks St & Montague St             40.695128   \n",
       "6           532.0           S 5 Pl & S 5 St             40.710451   \n",
       "7           521.0         8 Ave & W 31 St N             40.750967   \n",
       "8           436.0  Hancock St & Bedford Ave             40.682166   \n",
       "9           303.0     Mercer St & Spring St             40.723627   \n",
       "\n",
       "   end station longitude  bikeid    usertype  birth year  gender  \n",
       "0             -74.003664   19678  Subscriber      1983.0       1  \n",
       "1             -74.003664   16649  Subscriber      1984.0       1  \n",
       "2             -73.995951   19599    Customer         NaN       0  \n",
       "3             -73.973730   16352  Subscriber      1960.0       1  \n",
       "4             -73.989129   15567  Subscriber      1983.0       1  \n",
       "5             -73.995951   18445    Customer         NaN       0  \n",
       "6             -73.960876   15693  Subscriber      1991.0       1  \n",
       "7             -73.994442   16100  Subscriber      1981.0       1  \n",
       "8             -73.953990   15234  Subscriber      1984.0       1  \n",
       "9             -73.999496   16400  Subscriber      1987.0       1  "
      ]
     },
     "execution_count": 12,
     "metadata": {},
     "output_type": "execute_result"
    }
   ],
   "source": [
    "test_df.head(10)"
   ]
  },
  {
   "cell_type": "code",
   "execution_count": 13,
   "id": "9a313c5b-7741-461c-a223-3df0a11df7ba",
   "metadata": {},
   "outputs": [
    {
     "name": "stderr",
     "output_type": "stream",
     "text": [
      "C:\\Users\\Joris\\AppData\\Local\\Temp\\ipykernel_11196\\1317926413.py:13: DtypeWarning: Columns (5,7,8,9,10,11) have mixed types. Specify dtype option on import or set low_memory=False.\n",
      "  month_df = pd.read_csv(zip_file.open('2023-citibike-tripdata/202301-citibike-tripdata.zip'), encoding='latin-1')\n"
     ]
    }
   ],
   "source": [
    "test_df_2023 = get_test_data_2023()"
   ]
  },
  {
   "cell_type": "code",
   "execution_count": 14,
   "id": "72948c67-91a1-4fbf-88a9-8a40a69c4d08",
   "metadata": {},
   "outputs": [
    {
     "data": {
      "text/html": [
       "<div>\n",
       "<style scoped>\n",
       "    .dataframe tbody tr th:only-of-type {\n",
       "        vertical-align: middle;\n",
       "    }\n",
       "\n",
       "    .dataframe tbody tr th {\n",
       "        vertical-align: top;\n",
       "    }\n",
       "\n",
       "    .dataframe thead th {\n",
       "        text-align: right;\n",
       "    }\n",
       "</style>\n",
       "<table border=\"1\" class=\"dataframe\">\n",
       "  <thead>\n",
       "    <tr style=\"text-align: right;\">\n",
       "      <th></th>\n",
       "      <th>PK\u0003\u0004\u0014</th>\n",
       "      <th>rideable_type</th>\n",
       "      <th>started_at</th>\n",
       "      <th>ended_at</th>\n",
       "      <th>start_station_name</th>\n",
       "      <th>start_station_id</th>\n",
       "      <th>end_station_name</th>\n",
       "      <th>end_station_id</th>\n",
       "      <th>start_lat</th>\n",
       "      <th>start_lng</th>\n",
       "      <th>end_lat</th>\n",
       "      <th>end_lng</th>\n",
       "      <th>member_casual</th>\n",
       "    </tr>\n",
       "  </thead>\n",
       "  <tbody>\n",
       "    <tr>\n",
       "      <th>0</th>\n",
       "      <td>DC1CB984821DFFF7</td>\n",
       "      <td>classic_bike</td>\n",
       "      <td>2023-01-07 15:36:53.430</td>\n",
       "      <td>2023-01-07 15:39:45.406</td>\n",
       "      <td>Vesey St &amp; Church St</td>\n",
       "      <td>5216.06</td>\n",
       "      <td>Albany St &amp; Greenwich St</td>\n",
       "      <td>5145.02</td>\n",
       "      <td>40.71222</td>\n",
       "      <td>-74.010472</td>\n",
       "      <td>40.709267</td>\n",
       "      <td>-74.013247</td>\n",
       "      <td>member</td>\n",
       "    </tr>\n",
       "    <tr>\n",
       "      <th>1</th>\n",
       "      <td>C00CA02971557F16</td>\n",
       "      <td>classic_bike</td>\n",
       "      <td>2023-01-04 19:23:01.234</td>\n",
       "      <td>2023-01-04 19:34:57.151</td>\n",
       "      <td>Lispenard St &amp; Broadway</td>\n",
       "      <td>5391.06</td>\n",
       "      <td>St Marks Pl &amp; 1 Ave</td>\n",
       "      <td>5626.13</td>\n",
       "      <td>40.719392</td>\n",
       "      <td>-74.002472</td>\n",
       "      <td>40.727791</td>\n",
       "      <td>-73.985649</td>\n",
       "      <td>member</td>\n",
       "    </tr>\n",
       "    <tr>\n",
       "      <th>2</th>\n",
       "      <td>C753AE5EBD8458F9</td>\n",
       "      <td>classic_bike</td>\n",
       "      <td>2023-01-20 09:22:19.894</td>\n",
       "      <td>2023-01-20 10:23:24.255</td>\n",
       "      <td>3 Ave &amp; Schermerhorn St</td>\n",
       "      <td>4437.01</td>\n",
       "      <td>State St &amp; Smith St</td>\n",
       "      <td>4522.07</td>\n",
       "      <td>40.686832</td>\n",
       "      <td>-73.979677</td>\n",
       "      <td>40.68917</td>\n",
       "      <td>-73.9886</td>\n",
       "      <td>member</td>\n",
       "    </tr>\n",
       "    <tr>\n",
       "      <th>3</th>\n",
       "      <td>E4415A543C1972A7</td>\n",
       "      <td>classic_bike</td>\n",
       "      <td>2023-01-24 10:38:01.135</td>\n",
       "      <td>2023-01-24 10:41:40.749</td>\n",
       "      <td>E 5 St &amp; Ave A</td>\n",
       "      <td>5626.06</td>\n",
       "      <td>E 1 St &amp; 1 Ave</td>\n",
       "      <td>5593.01</td>\n",
       "      <td>40.72479</td>\n",
       "      <td>-73.984301</td>\n",
       "      <td>40.723356</td>\n",
       "      <td>-73.98865</td>\n",
       "      <td>member</td>\n",
       "    </tr>\n",
       "    <tr>\n",
       "      <th>4</th>\n",
       "      <td>BD52A87B215877C7</td>\n",
       "      <td>electric_bike</td>\n",
       "      <td>2023-01-13 10:17:38.192</td>\n",
       "      <td>2023-01-13 10:33:59.099</td>\n",
       "      <td>W 54 St &amp; 11 Ave</td>\n",
       "      <td>6955.05</td>\n",
       "      <td>Washington St &amp; Gansevoort St</td>\n",
       "      <td>6039.06</td>\n",
       "      <td>40.768292</td>\n",
       "      <td>-73.992563</td>\n",
       "      <td>40.739323</td>\n",
       "      <td>-74.008119</td>\n",
       "      <td>member</td>\n",
       "    </tr>\n",
       "    <tr>\n",
       "      <th>5</th>\n",
       "      <td>4FC76B63F9FE631F</td>\n",
       "      <td>classic_bike</td>\n",
       "      <td>2023-01-26 19:17:23.200</td>\n",
       "      <td>2023-01-26 19:47:05.287</td>\n",
       "      <td>W 59 St &amp; 10 Ave</td>\n",
       "      <td>7023.04</td>\n",
       "      <td>E 1 St &amp; 1 Ave</td>\n",
       "      <td>5593.01</td>\n",
       "      <td>40.770513</td>\n",
       "      <td>-73.988038</td>\n",
       "      <td>40.723356</td>\n",
       "      <td>-73.98865</td>\n",
       "      <td>member</td>\n",
       "    </tr>\n",
       "    <tr>\n",
       "      <th>6</th>\n",
       "      <td>680C4E3A801B0839</td>\n",
       "      <td>electric_bike</td>\n",
       "      <td>2023-01-13 12:25:17.234</td>\n",
       "      <td>2023-01-13 12:38:53.514</td>\n",
       "      <td>W 54 St &amp; 11 Ave</td>\n",
       "      <td>6955.05</td>\n",
       "      <td>Washington St &amp; Gansevoort St</td>\n",
       "      <td>6039.06</td>\n",
       "      <td>40.768243</td>\n",
       "      <td>-73.992777</td>\n",
       "      <td>40.739323</td>\n",
       "      <td>-74.008119</td>\n",
       "      <td>member</td>\n",
       "    </tr>\n",
       "    <tr>\n",
       "      <th>7</th>\n",
       "      <td>153486234EA3E427</td>\n",
       "      <td>electric_bike</td>\n",
       "      <td>2023-01-10 08:29:04.191</td>\n",
       "      <td>2023-01-10 08:33:49.274</td>\n",
       "      <td>Barrow St &amp; Hudson St</td>\n",
       "      <td>5805.05</td>\n",
       "      <td>Washington St &amp; Gansevoort St</td>\n",
       "      <td>6039.06</td>\n",
       "      <td>40.731724</td>\n",
       "      <td>-74.006744</td>\n",
       "      <td>40.739323</td>\n",
       "      <td>-74.008119</td>\n",
       "      <td>member</td>\n",
       "    </tr>\n",
       "    <tr>\n",
       "      <th>8</th>\n",
       "      <td>D24D370D9CE13CB4</td>\n",
       "      <td>classic_bike</td>\n",
       "      <td>2023-01-11 08:32:01.889</td>\n",
       "      <td>2023-01-11 08:38:26.498</td>\n",
       "      <td>Barrow St &amp; Hudson St</td>\n",
       "      <td>5805.05</td>\n",
       "      <td>Washington St &amp; Gansevoort St</td>\n",
       "      <td>6039.06</td>\n",
       "      <td>40.731724</td>\n",
       "      <td>-74.006744</td>\n",
       "      <td>40.739323</td>\n",
       "      <td>-74.008119</td>\n",
       "      <td>member</td>\n",
       "    </tr>\n",
       "    <tr>\n",
       "      <th>9</th>\n",
       "      <td>98E7D95A8B9B2249</td>\n",
       "      <td>classic_bike</td>\n",
       "      <td>2023-01-01 16:40:29.769</td>\n",
       "      <td>2023-01-01 16:48:04.256</td>\n",
       "      <td>Barrow St &amp; Hudson St</td>\n",
       "      <td>5805.05</td>\n",
       "      <td>Washington St &amp; Gansevoort St</td>\n",
       "      <td>6039.06</td>\n",
       "      <td>40.731724</td>\n",
       "      <td>-74.006744</td>\n",
       "      <td>40.739323</td>\n",
       "      <td>-74.008119</td>\n",
       "      <td>member</td>\n",
       "    </tr>\n",
       "  </tbody>\n",
       "</table>\n",
       "</div>"
      ],
      "text/plain": [
       "              PK\u0003\u0004\u0014  rideable_type               started_at  \\\n",
       "0  DC1CB984821DFFF7   classic_bike  2023-01-07 15:36:53.430   \n",
       "1  C00CA02971557F16   classic_bike  2023-01-04 19:23:01.234   \n",
       "2  C753AE5EBD8458F9   classic_bike  2023-01-20 09:22:19.894   \n",
       "3  E4415A543C1972A7   classic_bike  2023-01-24 10:38:01.135   \n",
       "4  BD52A87B215877C7  electric_bike  2023-01-13 10:17:38.192   \n",
       "5  4FC76B63F9FE631F   classic_bike  2023-01-26 19:17:23.200   \n",
       "6  680C4E3A801B0839  electric_bike  2023-01-13 12:25:17.234   \n",
       "7  153486234EA3E427  electric_bike  2023-01-10 08:29:04.191   \n",
       "8  D24D370D9CE13CB4   classic_bike  2023-01-11 08:32:01.889   \n",
       "9  98E7D95A8B9B2249   classic_bike  2023-01-01 16:40:29.769   \n",
       "\n",
       "                  ended_at       start_station_name start_station_id  \\\n",
       "0  2023-01-07 15:39:45.406     Vesey St & Church St          5216.06   \n",
       "1  2023-01-04 19:34:57.151  Lispenard St & Broadway          5391.06   \n",
       "2  2023-01-20 10:23:24.255  3 Ave & Schermerhorn St          4437.01   \n",
       "3  2023-01-24 10:41:40.749           E 5 St & Ave A          5626.06   \n",
       "4  2023-01-13 10:33:59.099         W 54 St & 11 Ave          6955.05   \n",
       "5  2023-01-26 19:47:05.287         W 59 St & 10 Ave          7023.04   \n",
       "6  2023-01-13 12:38:53.514         W 54 St & 11 Ave          6955.05   \n",
       "7  2023-01-10 08:33:49.274    Barrow St & Hudson St          5805.05   \n",
       "8  2023-01-11 08:38:26.498    Barrow St & Hudson St          5805.05   \n",
       "9  2023-01-01 16:48:04.256    Barrow St & Hudson St          5805.05   \n",
       "\n",
       "                end_station_name end_station_id  start_lat  start_lng  \\\n",
       "0       Albany St & Greenwich St        5145.02   40.71222 -74.010472   \n",
       "1            St Marks Pl & 1 Ave        5626.13  40.719392 -74.002472   \n",
       "2            State St & Smith St        4522.07  40.686832 -73.979677   \n",
       "3                 E 1 St & 1 Ave        5593.01   40.72479 -73.984301   \n",
       "4  Washington St & Gansevoort St        6039.06  40.768292 -73.992563   \n",
       "5                 E 1 St & 1 Ave        5593.01  40.770513 -73.988038   \n",
       "6  Washington St & Gansevoort St        6039.06  40.768243 -73.992777   \n",
       "7  Washington St & Gansevoort St        6039.06  40.731724 -74.006744   \n",
       "8  Washington St & Gansevoort St        6039.06  40.731724 -74.006744   \n",
       "9  Washington St & Gansevoort St        6039.06  40.731724 -74.006744   \n",
       "\n",
       "     end_lat    end_lng member_casual  \n",
       "0  40.709267 -74.013247        member  \n",
       "1  40.727791 -73.985649        member  \n",
       "2   40.68917   -73.9886        member  \n",
       "3  40.723356  -73.98865        member  \n",
       "4  40.739323 -74.008119        member  \n",
       "5  40.723356  -73.98865        member  \n",
       "6  40.739323 -74.008119        member  \n",
       "7  40.739323 -74.008119        member  \n",
       "8  40.739323 -74.008119        member  \n",
       "9  40.739323 -74.008119        member  "
      ]
     },
     "execution_count": 14,
     "metadata": {},
     "output_type": "execute_result"
    }
   ],
   "source": [
    "test_df_2023.head(10)"
   ]
  },
  {
   "cell_type": "code",
   "execution_count": 15,
   "id": "fb6f55da-38e8-4200-ac4d-53b80a58a375",
   "metadata": {
    "scrolled": true
   },
   "outputs": [
    {
     "name": "stdout",
     "output_type": "stream",
     "text": [
      "<class 'pandas.core.frame.DataFrame'>\n",
      "RangeIndex: 1795414 entries, 0 to 1795413\n",
      "Data columns (total 13 columns):\n",
      " #   Column              Dtype \n",
      "---  ------              ----- \n",
      " 0   PK\u0003\u0004\u0014               object\n",
      " 1   rideable_type       object\n",
      " 2   started_at          object\n",
      " 3   ended_at            object\n",
      " 4   start_station_name  object\n",
      " 5   start_station_id    object\n",
      " 6   end_station_name    object\n",
      " 7   end_station_id      object\n",
      " 8   start_lat           object\n",
      " 9   start_lng           object\n",
      " 10  end_lat             object\n",
      " 11  end_lng             object\n",
      " 12  member_casual       object\n",
      "dtypes: object(13)\n",
      "memory usage: 178.1+ MB\n"
     ]
    }
   ],
   "source": [
    "test_df_2023.info()"
   ]
  },
  {
   "cell_type": "code",
   "execution_count": 16,
   "id": "32fe2ed9-1820-41a1-9cf7-41c6a1007d0f",
   "metadata": {
    "scrolled": true
   },
   "outputs": [
    {
     "data": {
      "text/plain": [
       "PK\u0003\u0004\u0014\n",
       "DC1CB984821DFFF7    1\n",
       "F307A55F6B06B73F    1\n",
       "7A366DE72CC5E7F1    1\n",
       "F2379832CBB1C731    1\n",
       "8584DFC498892B3B    1\n",
       "                   ..\n",
       "C912436372957802    1\n",
       "DDED073DACDEB231    1\n",
       "35FE7F2F711919E6    1\n",
       "D551D33D83882959    1\n",
       "PK\u0001\u0002\u0014\u0003\u0014             1\n",
       "Name: count, Length: 1795414, dtype: int64"
      ]
     },
     "execution_count": 16,
     "metadata": {},
     "output_type": "execute_result"
    }
   ],
   "source": [
    "test_df_2023[test_df_2023.columns[0]].value_counts()"
   ]
  },
  {
   "cell_type": "code",
   "execution_count": 17,
   "id": "f785114d-413b-42c8-933c-01e3c77db026",
   "metadata": {},
   "outputs": [
    {
     "name": "stdout",
     "output_type": "stream",
     "text": [
      "2013\n",
      "Index(['tripduration', 'starttime', 'stoptime', 'start station id',\n",
      "       'start station name', 'start station latitude',\n",
      "       'start station longitude', 'end station id', 'end station name',\n",
      "       'end station latitude', 'end station longitude', 'bikeid', 'usertype',\n",
      "       'birth year', 'gender'],\n",
      "      dtype='object')\n",
      "2014\n",
      "Index(['tripduration', 'starttime', 'stoptime', 'start station id',\n",
      "       'start station name', 'start station latitude',\n",
      "       'start station longitude', 'end station id', 'end station name',\n",
      "       'end station latitude', 'end station longitude', 'bikeid', 'usertype',\n",
      "       'birth year', 'gender'],\n",
      "      dtype='object')\n",
      "2015\n",
      "Index(['tripduration', 'starttime', 'stoptime', 'start station id',\n",
      "       'start station name', 'start station latitude',\n",
      "       'start station longitude', 'end station id', 'end station name',\n",
      "       'end station latitude', 'end station longitude', 'bikeid', 'usertype',\n",
      "       'birth year', 'gender'],\n",
      "      dtype='object')\n",
      "2016\n",
      "Index(['Trip Duration', 'Start Time', 'Stop Time', 'Start Station ID',\n",
      "       'Start Station Name', 'Start Station Latitude',\n",
      "       'Start Station Longitude', 'End Station ID', 'End Station Name',\n",
      "       'End Station Latitude', 'End Station Longitude', 'Bike ID', 'User Type',\n",
      "       'Birth Year', 'Gender'],\n",
      "      dtype='object')\n",
      "2017\n",
      "Index(['tripduration', 'starttime', 'stoptime', 'start station id',\n",
      "       'start station name', 'start station latitude',\n",
      "       'start station longitude', 'end station id', 'end station name',\n",
      "       'end station latitude', 'end station longitude', 'bikeid', 'usertype',\n",
      "       'birth year', 'gender'],\n",
      "      dtype='object')\n",
      "2018\n",
      "Index(['tripduration', 'starttime', 'stoptime', 'start station id',\n",
      "       'start station name', 'start station latitude',\n",
      "       'start station longitude', 'end station id', 'end station name',\n",
      "       'end station latitude', 'end station longitude', 'bikeid', 'usertype',\n",
      "       'birth year', 'gender'],\n",
      "      dtype='object')\n",
      "2019\n",
      "Index(['tripduration', 'starttime', 'stoptime', 'start station id',\n",
      "       'start station name', 'start station latitude',\n",
      "       'start station longitude', 'end station id', 'end station name',\n",
      "       'end station latitude', 'end station longitude', 'bikeid', 'usertype',\n",
      "       'birth year', 'gender'],\n",
      "      dtype='object')\n",
      "2020\n"
     ]
    },
    {
     "name": "stderr",
     "output_type": "stream",
     "text": [
      "C:\\Users\\Joris\\AppData\\Local\\Temp\\ipykernel_11196\\1317926413.py:27: DtypeWarning: Columns (5,7,8,9,10,11) have mixed types. Specify dtype option on import or set low_memory=False.\n",
      "  month_df = pd.read_csv(zip_file.open(f'{year}-citibike-tripdata/{year}{int(month_dict[month]):02d}-citibike-tripdata.zip'), encoding='latin-1')\n"
     ]
    },
    {
     "name": "stdout",
     "output_type": "stream",
     "text": [
      "Index(['PK\u0003\u0004\u0014', 'rideable_type', 'started_at', 'ended_at',\n",
      "       'start_station_name', 'start_station_id', 'end_station_name',\n",
      "       'end_station_id', 'start_lat', 'start_lng', 'end_lat', 'end_lng',\n",
      "       'member_casual'],\n",
      "      dtype='object')\n",
      "2021\n"
     ]
    },
    {
     "name": "stderr",
     "output_type": "stream",
     "text": [
      "C:\\Users\\Joris\\AppData\\Local\\Temp\\ipykernel_11196\\1317926413.py:27: DtypeWarning: Columns (5,7,8,9,10,11) have mixed types. Specify dtype option on import or set low_memory=False.\n",
      "  month_df = pd.read_csv(zip_file.open(f'{year}-citibike-tripdata/{year}{int(month_dict[month]):02d}-citibike-tripdata.zip'), encoding='latin-1')\n"
     ]
    },
    {
     "name": "stdout",
     "output_type": "stream",
     "text": [
      "Index(['PK\u0003\u0004\u0014', 'rideable_type', 'started_at', 'ended_at',\n",
      "       'start_station_name', 'start_station_id', 'end_station_name',\n",
      "       'end_station_id', 'start_lat', 'start_lng', 'end_lat', 'end_lng',\n",
      "       'member_casual'],\n",
      "      dtype='object')\n",
      "2022\n"
     ]
    },
    {
     "name": "stderr",
     "output_type": "stream",
     "text": [
      "C:\\Users\\Joris\\AppData\\Local\\Temp\\ipykernel_11196\\1317926413.py:27: DtypeWarning: Columns (5,7,8,9,10,11) have mixed types. Specify dtype option on import or set low_memory=False.\n",
      "  month_df = pd.read_csv(zip_file.open(f'{year}-citibike-tripdata/{year}{int(month_dict[month]):02d}-citibike-tripdata.zip'), encoding='latin-1')\n"
     ]
    },
    {
     "name": "stdout",
     "output_type": "stream",
     "text": [
      "Index(['PK\u0003\u0004\u0014', 'rideable_type', 'started_at', 'ended_at',\n",
      "       'start_station_name', 'start_station_id', 'end_station_name',\n",
      "       'end_station_id', 'start_lat', 'start_lng', 'end_lat', 'end_lng',\n",
      "       'member_casual'],\n",
      "      dtype='object')\n",
      "2023\n"
     ]
    },
    {
     "name": "stderr",
     "output_type": "stream",
     "text": [
      "C:\\Users\\Joris\\AppData\\Local\\Temp\\ipykernel_11196\\1317926413.py:27: DtypeWarning: Columns (5,7,8,9,10,11) have mixed types. Specify dtype option on import or set low_memory=False.\n",
      "  month_df = pd.read_csv(zip_file.open(f'{year}-citibike-tripdata/{year}{int(month_dict[month]):02d}-citibike-tripdata.zip'), encoding='latin-1')\n"
     ]
    },
    {
     "name": "stdout",
     "output_type": "stream",
     "text": [
      "Index(['PK\u0003\u0004\u0014', 'rideable_type', 'started_at', 'ended_at',\n",
      "       'start_station_name', 'start_station_id', 'end_station_name',\n",
      "       'end_station_id', 'start_lat', 'start_lng', 'end_lat', 'end_lng',\n",
      "       'member_casual'],\n",
      "      dtype='object')\n"
     ]
    }
   ],
   "source": [
    "get_col_names_per_year('October')"
   ]
  },
  {
   "cell_type": "markdown",
   "id": "28973187-d6f1-43bf-a963-2a5427651656",
   "metadata": {},
   "source": [
    "# Inconsistencies in citibike column naming:\n",
    "- 2013 to 2019:\n",
    "\n",
    "tripduration', 'starttime', 'stoptime', 'start station id',\n",
    "       'start station name', 'start station latitude',\n",
    "       'start station longitude', 'end station id', 'end station name',\n",
    "       'end station latitude', 'end station longitude', 'bikeid', 'usertype',\n",
    "       'birth year', 'gender'\n",
    "- In 2016 October, column names are capitalized and have a space\n",
    "- After 2019:\n",
    "\n",
    "'PK\u0003\u0004\u0014', 'rideable_type', 'started_at', 'ended_at',\n",
    "       'start_station_name', 'start_station_id', 'end_station_name',\n",
    "       'end_station_id', 'start_lat', 'start_lng', 'end_lat', 'end_lng',\n",
    "       'member_casual'\n",
    "\n",
    "- After 2019 no birth year, gender, and tripduration (can be calculated)\n",
    "- New after 2019: Ride ID, Rideable type"
   ]
  },
  {
   "cell_type": "code",
   "execution_count": 18,
   "id": "b01ff2bb-2731-42cb-8998-c1dab136ebeb",
   "metadata": {},
   "outputs": [
    {
     "name": "stdout",
     "output_type": "stream",
     "text": [
      "['Subscriber' 'Customer']\n",
      "['member' 'casual' 'member_casual' nan]\n"
     ]
    }
   ],
   "source": [
    "# Customer = 24-hour pass or 3-day pass user; Subscriber = Annual Member\n",
    "# Subscriber and member is the same.\n",
    "print(test_df['usertype'].unique())\n",
    "print(test_df_2023['member_casual'].unique())"
   ]
  },
  {
   "cell_type": "code",
   "execution_count": 19,
   "id": "fb6d91fa-f56f-4d40-84a4-2e9787f7c146",
   "metadata": {},
   "outputs": [
    {
     "name": "stderr",
     "output_type": "stream",
     "text": [
      "C:\\Users\\Joris\\AppData\\Local\\Temp\\ipykernel_11196\\739335114.py:3: DtypeWarning: Columns (5,7,8,9,10,11) have mixed types. Specify dtype option on import or set low_memory=False.\n",
      "  feb_df_2023 = pd.read_csv(zip_file.open(f'2023-citibike-tripdata/202302-citibike-tripdata.zip'), encoding='latin-1')\n"
     ]
    },
    {
     "name": "stdout",
     "output_type": "stream",
     "text": [
      "Index(['PK\u0003\u0004\u0014'], dtype='object')\n"
     ]
    }
   ],
   "source": [
    "# Monthly CSV files can be missing or corrupted:\n",
    "with zipfile.ZipFile(f'../data/tripdata/2023-citibike-tripdata.zip', 'r') as zip_file:\n",
    "    feb_df_2023 = pd.read_csv(zip_file.open(f'2023-citibike-tripdata/202302-citibike-tripdata.zip'), encoding='latin-1')\n",
    "    print(feb_df_2023.columns)"
   ]
  },
  {
   "cell_type": "code",
   "execution_count": 20,
   "id": "123ae304-ec66-4a8d-8b35-cb381e062191",
   "metadata": {},
   "outputs": [
    {
     "name": "stdout",
     "output_type": "stream",
     "text": [
      "<class 'pandas.core.frame.DataFrame'>\n",
      "RangeIndex: 577703 entries, 0 to 577702\n",
      "Data columns (total 15 columns):\n",
      " #   Column                   Non-Null Count   Dtype  \n",
      "---  ------                   --------------   -----  \n",
      " 0   tripduration             577703 non-null  int64  \n",
      " 1   starttime                577703 non-null  object \n",
      " 2   stoptime                 577703 non-null  object \n",
      " 3   start station id         577703 non-null  int64  \n",
      " 4   start station name       577703 non-null  object \n",
      " 5   start station latitude   577703 non-null  float64\n",
      " 6   start station longitude  577703 non-null  float64\n",
      " 7   end station id           559644 non-null  float64\n",
      " 8   end station name         559644 non-null  object \n",
      " 9   end station latitude     559644 non-null  float64\n",
      " 10  end station longitude    559644 non-null  float64\n",
      " 11  bikeid                   577703 non-null  int64  \n",
      " 12  usertype                 577703 non-null  object \n",
      " 13  birth year               337382 non-null  float64\n",
      " 14  gender                   577703 non-null  int64  \n",
      "dtypes: float64(6), int64(4), object(5)\n",
      "memory usage: 247.5 MB\n"
     ]
    }
   ],
   "source": [
    "test_df.info(memory_usage='deep')"
   ]
  },
  {
   "cell_type": "code",
   "execution_count": 21,
   "id": "deecb88a-04f2-42d6-a2c0-d2e88103ab01",
   "metadata": {},
   "outputs": [],
   "source": [
    "test_df['starttime'] = pd.to_datetime(test_df['starttime'])\n",
    "test_df['stoptime'] = pd.to_datetime(test_df['stoptime'])\n",
    "\n",
    "test_df['usertype'] = test_df['usertype'].astype('category')\n",
    "test_df['start station name'] = test_df['start station name'].astype('category')\n",
    "test_df['end station name'] = test_df['end station name'].astype('category')\n",
    "test_df['gender'] = test_df['gender'].astype('category')\n",
    "for column in test_df.columns:\n",
    "    if test_df[column].dtype == 'int64':\n",
    "        test_df[column] = pd.to_numeric(test_df[column], downcast='integer')\n",
    "    elif test_df[column].dtype == 'float64':#\n",
    "        test_df[column] = pd.to_numeric(test_df[column], downcast='float')\n"
   ]
  },
  {
   "cell_type": "code",
   "execution_count": 22,
   "id": "86abfad4-7ea7-48a8-bf48-86998223cdcf",
   "metadata": {},
   "outputs": [
    {
     "name": "stdout",
     "output_type": "stream",
     "text": [
      "<class 'pandas.core.frame.DataFrame'>\n",
      "RangeIndex: 577703 entries, 0 to 577702\n",
      "Data columns (total 15 columns):\n",
      " #   Column                   Non-Null Count   Dtype         \n",
      "---  ------                   --------------   -----         \n",
      " 0   tripduration             577703 non-null  int32         \n",
      " 1   starttime                577703 non-null  datetime64[ns]\n",
      " 2   stoptime                 577703 non-null  datetime64[ns]\n",
      " 3   start station id         577703 non-null  int16         \n",
      " 4   start station name       577703 non-null  category      \n",
      " 5   start station latitude   577703 non-null  float32       \n",
      " 6   start station longitude  577703 non-null  float32       \n",
      " 7   end station id           559644 non-null  float32       \n",
      " 8   end station name         559644 non-null  category      \n",
      " 9   end station latitude     559644 non-null  float32       \n",
      " 10  end station longitude    559644 non-null  float32       \n",
      " 11  bikeid                   577703 non-null  int16         \n",
      " 12  usertype                 577703 non-null  category      \n",
      " 13  birth year               337382 non-null  float32       \n",
      " 14  gender                   577703 non-null  category      \n",
      "dtypes: category(4), datetime64[ns](2), float32(6), int16(2), int32(1)\n",
      "memory usage: 29.8 MB\n"
     ]
    }
   ],
   "source": [
    "test_df.info(memory_usage='deep')"
   ]
  },
  {
   "cell_type": "markdown",
   "id": "f4cd9fa3-2c7f-4490-99bd-30563f9d65a9",
   "metadata": {},
   "source": [
    "## Converting columns to different dtype reduces memory from 247 MB to 30 MB"
   ]
  },
  {
   "cell_type": "markdown",
   "id": "edaea720-61e4-4e3b-af31-01e18fff6f94",
   "metadata": {},
   "source": [
    "# Functions to load and process citibike and nypd data:"
   ]
  },
  {
   "cell_type": "code",
   "execution_count": 23,
   "id": "c9234689-581f-4c54-a0f5-d61e4513d723",
   "metadata": {
    "scrolled": true
   },
   "outputs": [],
   "source": [
    "# Functions to load and process data\n",
    "month_list = ['January', 'February', 'March', 'April', 'May', 'June', 'July', 'August', 'September', \n",
    "              'October', 'November', 'December']\n",
    "month_list_short = [month[:3] for month in month_list]\n",
    "\n",
    "\n",
    "# Ensure dataframe naming consistency and apply memory optimizations\n",
    "def process_citibike_csv(df: pd.DataFrame, month: str, year: str) -> pd.DataFrame:\n",
    "    column_names = {\n",
    "        'started_at': 'starttime',\n",
    "        'ended_at': 'stoptime',\n",
    "        'start_station_name':'start station name',\n",
    "        'start_station_id': 'start station id',\n",
    "        'end_station_name': 'end station name',\n",
    "        'end_station_id': 'end station id',\n",
    "        'start_lat': 'start station latitude',\n",
    "        'start_lng': 'start station longitude',\n",
    "        'end_lat': 'end station latitude',\n",
    "        'end_lng': 'end station longitude',\n",
    "        'member_casual': 'usertype',\n",
    "        'rideable_type': 'rideable type',\n",
    "        'Bike ID':'bikeid',\n",
    "        'Start Time':'starttime',\n",
    "        'Stop Time':'stoptime',\n",
    "        'Start Station Name':'start station name',\n",
    "        'Start Station ID':'start station id',\n",
    "        'End Station Name':'end station name',\n",
    "        'End Station ID':'end station id',\n",
    "        'Start Station Latitude':'start station latitude',\n",
    "        'Start Station Longitude':'start station longitude',\n",
    "        'End Station Latitude':'end station latitude',\n",
    "        'End Station Longitude':'end station longitude',\n",
    "        'User Type':'usertype',\n",
    "        'Birth Year':'birth year',\n",
    "        'Trip Duration':'tripduration',\n",
    "        'Gender': 'gender'\n",
    "    }\n",
    "    \n",
    "    # Ensure consisten column naming between 2013-2019 and 2020-2023\n",
    "    df.rename(columns = column_names, inplace=True)\n",
    "    \n",
    "    df['starttime'] = pd.to_datetime(df['starttime'], errors='coerce')\n",
    "    df['stoptime'] = pd.to_datetime(df['stoptime'], errors='coerce')\n",
    "    \n",
    "    # After 2019 no birth year, gender, and tripduration\n",
    "    if int(year) < 2020:\n",
    "        # Invalid birth years get convertet to NaN\n",
    "        df['birth year'] = pd.to_numeric(df['birth year'], errors='coerce', downcast='integer')\n",
    "        df['gender'] = df['gender'].astype('category')\n",
    "        df['birth year'] = pd.to_numeric(df['birth year'], downcast='integer', errors='coerce')\n",
    "        df['bikeid'] = pd.to_numeric(df['bikeid'], downcast='integer', errors='coerce') \n",
    "\n",
    "    else:\n",
    "        df['usertype'] = (df['usertype'].replace({'member':'Subscriber','casual': 'Customer'}))\n",
    "        df['rideable type'] =  pd.Categorical(df['rideable type'])\n",
    "\n",
    "    df['start station id'] = pd.to_numeric(df['start station id'], downcast='integer', errors='coerce')  \n",
    "    df['start station latitude'] = pd.to_numeric(df['start station latitude'], downcast='float', errors='coerce')\n",
    "    df['start station longitude'] = pd.to_numeric(df['start station longitude'], downcast='float', errors='coerce')        \n",
    "\n",
    "    df['end station id'] = pd.to_numeric(df['end station id'], downcast='integer', errors='coerce')  \n",
    "    df['end station latitude'] = pd.to_numeric(df['end station latitude'], downcast='float', errors='coerce')\n",
    "    df['end station longitude'] = pd.to_numeric(df['end station longitude'], downcast='float', errors='coerce')\n",
    "\n",
    "    df['month'] = month\n",
    "    df['month'] = pd.Categorical(df['month'], categories=month_list_short, ordered=True)\n",
    "    df['usertype'] =  pd.Categorical(df['usertype'])\n",
    "    \n",
    "    return df\n",
    "\n",
    "\n",
    "# Input: path or buffer\n",
    "# Output: if month = None: dataframe holding all trip data for a whole year \n",
    "# if month != None: dataframe for this month\n",
    "def process_citibike_zip_file(zip_input_path, year, month=None) -> pd.DataFrame:\n",
    "\n",
    "    # Construct output dictionary\n",
    "    dataframes = []\n",
    "    alrd_processed = set()\n",
    "    if month is None:\n",
    "        month_dict = {i + 1: month for i, month in enumerate(month_list)}\n",
    "    else:\n",
    "        month_dict = {month_list.index(month) + 1 : month}\n",
    "    with zipfile.ZipFile(zip_input_path, 'r') as zip_file:\n",
    "        \n",
    "        for month_id in month_dict.keys():\n",
    "            print(f'Processing {year} {month_dict[month_id]}')\n",
    "            if year == 2017:\n",
    "                df_path = f'{year}-citibike-tripdata/{month_id}_{month_dict[month_id]}/{year}{month_id:02d}-citibike-tripdata.csv_1.csv'\n",
    "                df_path_2 = f'{year}-citibike-tripdata/{month_id}_{month_dict[month_id]}/{year}{month_id:02d}-citibike-tripdata.csv_2.csv'\n",
    "\n",
    "            elif year < 2020:\n",
    "                df_path = f'{year}-citibike-tripdata/{month_id}_{month_dict[month_id]}/{year}{month_id:02d}-citibike-tripdata_1.csv'\n",
    "                df_path_2 = f'{year}-citibike-tripdata/{month_id}_{month_dict[month_id]}/{year}{month_id:02d}-citibike-tripdata_2.csv'\n",
    "\n",
    "                #month_df = pd.read_csv(zip_file.open(f'{year}-citibike-tripdata/6_June/{year}06-citibike-tripdata_1.csv'), encoding='latin-1')\n",
    "\n",
    "            else:\n",
    "                df_path = f'{year}-citibike-tripdata/{year}{month_id:02d}-citibike-tripdata.zip'\n",
    "                df_path_2 = None\n",
    "            try:\n",
    "                month_df = pd.read_csv(zip_file.open(df_path), encoding='latin-1')\n",
    "                \n",
    "            # CSV files can be missing\n",
    "            except Exception as e:\n",
    "                #print(e)\n",
    "                print(f'No csv found for {year} {month_dict[month_id]}')\n",
    "                continue\n",
    "                \n",
    "            if df_path_2 is not None:\n",
    "                try:\n",
    "                    month_df_2 = pd.read_csv(zip_file.open(df_path_2), encoding='latin-1')\n",
    "                    month_df = pd.concat([month_df, month_df_2])\n",
    "                    print(f'{year} {month_dict[month_id]} has more than 1 million entries.')\n",
    "                except:\n",
    "                    pass\n",
    "                        \n",
    "            \n",
    "                \n",
    "            # Drops tripduration if year < 2020, or PK\u0003\u0004\u0014 if year > 2019\n",
    "            # tripduration can be easily calculated from start and end timestamp\n",
    "            # PK\u0003\u0004\u0014 is unique identifier - not needed\n",
    "            if len(month_df.columns) < 3:\n",
    "                print(f\"{month_dict[month_id]} CSV file is corrupted, skipping!\")\n",
    "            month_df.drop(month_df.columns[0], axis=1, inplace=True)\n",
    "            month_df = process_citibike_csv(month_df, month_dict[month_id][:3], year)\n",
    "            \n",
    "            dataframes.append(month_df)\n",
    "        \n",
    "    total_rows = 0\n",
    "    full_df = pd.concat(dataframes)\n",
    "\n",
    "    print(f'Total no. of rows: {len(full_df.index)}')\n",
    "    print(f'Memory usage:')\n",
    "    print(full_df.info(memory_usage='deep'))\n",
    "    \n",
    "    return full_df\n",
    "\n",
    "\n",
    "def process_nypd_data(input_path) -> pd.DataFrame:\n",
    "    df = pd.read_csv(input_path)\n",
    "    # Location is tuple of latitude and longitude\n",
    "    df.drop(['BOROUGH', 'ZIP CODE', 'CROSS STREET NAME', 'OFF STREET NAME',\n",
    "             'CONTRIBUTING FACTOR VEHICLE 1', 'CONTRIBUTING FACTOR VEHICLE 2', 'CONTRIBUTING FACTOR VEHICLE 3', \n",
    "             'CONTRIBUTING FACTOR VEHICLE 4', 'CONTRIBUTING FACTOR VEHICLE 5',# 'VEHICLE TYPE CODE 1', 'VEHICLE TYPE CODE 2',\n",
    "             'VEHICLE TYPE CODE 3', 'VEHICLE TYPE CODE 4', 'VEHICLE TYPE CODE 5'], axis=1, inplace=True)\n",
    "    df['CRASH DATE'] = pd.to_datetime(df['CRASH DATE'], errors='coerce')\n",
    "    df['CRASH TIME'] = pd.to_datetime(df['CRASH TIME'], format='%H:%M', errors='coerce').dt.hour\n",
    "    return df\n",
    "\n",
    "\n",
    "# Citibike Data: Creates zipfile.Zipfile from csv.zip saved on local disk\n",
    "# Tries to get csv from ../data/BUCKET_NAME/FILE_NAME.zip\n",
    "def load_data_offline(bucket_name: str, year: int, month: str) -> pd.DataFrame:\n",
    "    \n",
    "    if bucket_name == 'tripdata':\n",
    "        file_name = f'{year}-citibike-tripdata.zip'\n",
    "        path_to_file = f'../data/{bucket_name}/{file_name}'\n",
    "\n",
    "        return process_citibike_zip_file(path_to_file, year, month)\n",
    "        \n",
    "    elif bucket_name == 'nypd':\n",
    "        file_name = f'Motor_Vehicle_Collisions_-_Crashes_20241129.csv'\n",
    "        path_to_file = f'../data/{bucket_name}/{file_name}'\n",
    "        \n",
    "        return process_nypd_data(path_to_file)\n",
    "    else:\n",
    "        raise NotImplementedError\n",
    "        \n",
    "\n",
    "# Citibike data: Creates zipfile.Zipfile from public access s3 URL\n",
    "def load_data_online(bucket_name: str, year: int, month: str) -> pd.DataFrame:\n",
    "    if bucket_name == 'tripdata':\n",
    "        file_name = f'{year}-citibike-tripdata.zip'\n",
    "        response = requests.get(f'https://s3.amazonaws.com/{bucket_name}/{file_name}')\n",
    "        if response.status_code == 200:\n",
    "            print(\"Successfully downloaded the zip file.\")\n",
    "            # Load zip file into memory\n",
    "            buffer = io.BytesIO(response.content)\n",
    "            \n",
    "            return process_citibike_zip_file(buffer, year, month)\n",
    "        else:\n",
    "            print(f'Http get request Error {response.status_code}')\n",
    "    elif bucket_name == 'nypd':\n",
    "        url = 'https://data.cityofnewyork.us/api/views/h9gi-nx95/files/bd7ab0b2-d48c-48c4-a0a5-590d31a3e120?download=true&filename=MVCollisionsDataDictionary_20190813_ERD.xlsx'\n",
    "        return process_nypd_xlsx(url)\n",
    "\n",
    "\n",
    "def load_data(bucket_name: str, year: int = None, month: str = None) -> pd.DataFrame:\n",
    "    try:\n",
    "        print('Trying to load file from disk.')\n",
    "        data = load_data_offline(bucket_name, year, month)\n",
    "        print('Loaded file from disk.')\n",
    "\n",
    "    except FileNotFoundError:\n",
    "        print('Could not load from disk, loading from URL.')\n",
    "        data = load_data_online(bucket_name, year, month)\n",
    "        print('Loaded file from URL.')\n",
    "        \n",
    "    except:\n",
    "        raise FileNotFoundError(\"Could not load file from disk or URL.\")\n",
    "        \n",
    "    finally:\n",
    "        return data\n"
   ]
  },
  {
   "cell_type": "code",
   "execution_count": 24,
   "id": "5f9b774a-fdee-4ba4-b99c-5607736cb7e7",
   "metadata": {
    "collapsed": true,
    "jupyter": {
     "outputs_hidden": true
    },
    "scrolled": true
   },
   "outputs": [
    {
     "name": "stdout",
     "output_type": "stream",
     "text": [
      "Trying to load file from disk.\n",
      "Processing 2013 January\n",
      "No csv found for 2013 January\n",
      "Processing 2013 February\n",
      "No csv found for 2013 February\n",
      "Processing 2013 March\n",
      "No csv found for 2013 March\n",
      "Processing 2013 April\n",
      "No csv found for 2013 April\n",
      "Processing 2013 May\n",
      "No csv found for 2013 May\n",
      "Processing 2013 June\n",
      "Processing 2013 July\n",
      "Processing 2013 August\n",
      "2013 August has more than 1 million entries.\n",
      "Processing 2013 September\n",
      "2013 September has more than 1 million entries.\n",
      "Processing 2013 October\n",
      "2013 October has more than 1 million entries.\n",
      "Processing 2013 November\n",
      "Processing 2013 December\n",
      "Total no. of rows: 5614888\n",
      "Memory usage:\n",
      "<class 'pandas.core.frame.DataFrame'>\n",
      "Index: 5614888 entries, 0 to 443965\n",
      "Data columns (total 15 columns):\n",
      " #   Column                   Dtype         \n",
      "---  ------                   -----         \n",
      " 0   starttime                datetime64[ns]\n",
      " 1   stoptime                 datetime64[ns]\n",
      " 2   start station id         int16         \n",
      " 3   start station name       object        \n",
      " 4   start station latitude   float32       \n",
      " 5   start station longitude  float32       \n",
      " 6   end station id           float64       \n",
      " 7   end station name         object        \n",
      " 8   end station latitude     float32       \n",
      " 9   end station longitude    float32       \n",
      " 10  bikeid                   int16         \n",
      " 11  usertype                 category      \n",
      " 12  birth year               float64       \n",
      " 13  gender                   category      \n",
      " 14  month                    category      \n",
      "dtypes: category(3), datetime64[ns](2), float32(4), float64(2), int16(2), object(2)\n",
      "memory usage: 1.1 GB\n",
      "None\n",
      "Loaded file from disk.\n"
     ]
    }
   ],
   "source": [
    "data_2013 = load_data('tripdata', 2013)"
   ]
  },
  {
   "cell_type": "code",
   "execution_count": 25,
   "id": "cc077b61-5032-48ac-9e36-d425fbb0327a",
   "metadata": {
    "collapsed": true,
    "jupyter": {
     "outputs_hidden": true
    },
    "scrolled": true
   },
   "outputs": [
    {
     "name": "stdout",
     "output_type": "stream",
     "text": [
      "Trying to load file from disk.\n",
      "Processing 2014 January\n",
      "Processing 2014 February\n",
      "Processing 2014 March\n",
      "Processing 2014 April\n",
      "Processing 2014 May\n",
      "Processing 2014 June\n",
      "Processing 2014 July\n",
      "Processing 2014 August\n",
      "Processing 2014 September\n",
      "Processing 2014 October\n",
      "Processing 2014 November\n",
      "Processing 2014 December\n",
      "Total no. of rows: 8081216\n",
      "Memory usage:\n",
      "<class 'pandas.core.frame.DataFrame'>\n",
      "Index: 8081216 entries, 0 to 399068\n",
      "Data columns (total 15 columns):\n",
      " #   Column                   Dtype         \n",
      "---  ------                   -----         \n",
      " 0   starttime                datetime64[ns]\n",
      " 1   stoptime                 datetime64[ns]\n",
      " 2   start station id         int16         \n",
      " 3   start station name       object        \n",
      " 4   start station latitude   float32       \n",
      " 5   start station longitude  float32       \n",
      " 6   end station id           int16         \n",
      " 7   end station name         object        \n",
      " 8   end station latitude     float32       \n",
      " 9   end station longitude    float32       \n",
      " 10  bikeid                   int16         \n",
      " 11  usertype                 category      \n",
      " 12  birth year               float64       \n",
      " 13  gender                   category      \n",
      " 14  month                    category      \n",
      "dtypes: category(3), datetime64[ns](2), float32(4), float64(1), int16(3), object(2)\n",
      "memory usage: 1.6 GB\n",
      "None\n",
      "Loaded file from disk.\n"
     ]
    }
   ],
   "source": [
    "data_2014 = load_data('tripdata', 2014)"
   ]
  },
  {
   "cell_type": "code",
   "execution_count": 26,
   "id": "d29400db-fd3d-4f5f-b7d4-7c0bdfd37321",
   "metadata": {
    "collapsed": true,
    "jupyter": {
     "outputs_hidden": true
    }
   },
   "outputs": [
    {
     "name": "stdout",
     "output_type": "stream",
     "text": [
      "Trying to load file from disk.\n",
      "Processing 2019 January\n",
      "Processing 2019 February\n",
      "Processing 2019 March\n",
      "2019 March has more than 1 million entries.\n",
      "Processing 2019 April\n",
      "2019 April has more than 1 million entries.\n",
      "Processing 2019 May\n",
      "2019 May has more than 1 million entries.\n",
      "Processing 2019 June\n",
      "2019 June has more than 1 million entries.\n",
      "Processing 2019 July\n",
      "2019 July has more than 1 million entries.\n",
      "Processing 2019 August\n",
      "2019 August has more than 1 million entries.\n",
      "Processing 2019 September\n",
      "2019 September has more than 1 million entries.\n",
      "Processing 2019 October\n",
      "2019 October has more than 1 million entries.\n",
      "Processing 2019 November\n",
      "2019 November has more than 1 million entries.\n",
      "Processing 2019 December\n",
      "Total no. of rows: 19363566\n",
      "Memory usage:\n",
      "<class 'pandas.core.frame.DataFrame'>\n",
      "Index: 19363566 entries, 0 to 955209\n",
      "Data columns (total 15 columns):\n",
      " #   Column                   Dtype         \n",
      "---  ------                   -----         \n",
      " 0   starttime                datetime64[ns]\n",
      " 1   stoptime                 datetime64[ns]\n",
      " 2   start station id         float64       \n",
      " 3   start station name       object        \n",
      " 4   start station latitude   float32       \n",
      " 5   start station longitude  float32       \n",
      " 6   end station id           float64       \n",
      " 7   end station name         object        \n",
      " 8   end station latitude     float32       \n",
      " 9   end station longitude    float32       \n",
      " 10  bikeid                   int32         \n",
      " 11  usertype                 category      \n",
      " 12  birth year               int16         \n",
      " 13  gender                   category      \n",
      " 14  month                    category      \n",
      "dtypes: category(3), datetime64[ns](2), float32(4), float64(2), int16(1), int32(1), object(2)\n",
      "memory usage: 3.9 GB\n",
      "None\n",
      "Loaded file from disk.\n"
     ]
    }
   ],
   "source": [
    "data_2019 = load_data('tripdata', 2019)"
   ]
  },
  {
   "cell_type": "code",
   "execution_count": 27,
   "id": "b8230b67-ec67-4680-8b82-8256924a91ab",
   "metadata": {
    "collapsed": true,
    "jupyter": {
     "outputs_hidden": true
    }
   },
   "outputs": [
    {
     "name": "stdout",
     "output_type": "stream",
     "text": [
      "Trying to load file from disk.\n",
      "Processing 2022 February\n"
     ]
    },
    {
     "name": "stderr",
     "output_type": "stream",
     "text": [
      "C:\\Users\\Joris\\AppData\\Local\\Temp\\ipykernel_11196\\848879554.py:102: DtypeWarning: Columns (5,7,8,9,10,11) have mixed types. Specify dtype option on import or set low_memory=False.\n",
      "  month_df = pd.read_csv(zip_file.open(df_path), encoding='latin-1')\n"
     ]
    },
    {
     "name": "stdout",
     "output_type": "stream",
     "text": [
      "Total no. of rows: 1197315\n",
      "Memory usage:\n",
      "<class 'pandas.core.frame.DataFrame'>\n",
      "RangeIndex: 1197315 entries, 0 to 1197314\n",
      "Data columns (total 13 columns):\n",
      " #   Column                   Non-Null Count    Dtype         \n",
      "---  ------                   --------------    -----         \n",
      " 0   rideable type            1197313 non-null  category      \n",
      " 1   starttime                1197312 non-null  datetime64[ns]\n",
      " 2   stoptime                 1197312 non-null  datetime64[ns]\n",
      " 3   start station name       1197312 non-null  object        \n",
      " 4   start station id         1197303 non-null  float64       \n",
      " 5   end station name         1195075 non-null  object        \n",
      " 6   end station id           1195020 non-null  float64       \n",
      " 7   start station latitude   1197312 non-null  float32       \n",
      " 8   start station longitude  1197312 non-null  float32       \n",
      " 9   end station latitude     1196116 non-null  float32       \n",
      " 10  end station longitude    1196116 non-null  float32       \n",
      " 11  usertype                 1197313 non-null  category      \n",
      " 12  month                    1197315 non-null  category      \n",
      "dtypes: category(3), datetime64[ns](2), float32(4), float64(2), object(2)\n",
      "memory usage: 233.4 MB\n",
      "None\n",
      "Loaded file from disk.\n"
     ]
    }
   ],
   "source": [
    "data_2022_Feb = load_data('tripdata', 2022, 'February')"
   ]
  },
  {
   "cell_type": "code",
   "execution_count": 28,
   "id": "e27c3761-fcdd-444c-8894-c94cc4cca3ff",
   "metadata": {
    "collapsed": true,
    "jupyter": {
     "outputs_hidden": true
    }
   },
   "outputs": [
    {
     "name": "stdout",
     "output_type": "stream",
     "text": [
      "Trying to load file from disk.\n",
      "Processing 2021 January\n",
      "No csv found for 2021 January\n",
      "Processing 2021 February\n"
     ]
    },
    {
     "name": "stderr",
     "output_type": "stream",
     "text": [
      "C:\\Users\\Joris\\AppData\\Local\\Temp\\ipykernel_11196\\848879554.py:102: DtypeWarning: Columns (5,7) have mixed types. Specify dtype option on import or set low_memory=False.\n",
      "  month_df = pd.read_csv(zip_file.open(df_path), encoding='latin-1')\n"
     ]
    },
    {
     "name": "stdout",
     "output_type": "stream",
     "text": [
      "Processing 2021 March\n"
     ]
    },
    {
     "name": "stderr",
     "output_type": "stream",
     "text": [
      "C:\\Users\\Joris\\AppData\\Local\\Temp\\ipykernel_11196\\848879554.py:102: DtypeWarning: Columns (5,7,8,9,10,11) have mixed types. Specify dtype option on import or set low_memory=False.\n",
      "  month_df = pd.read_csv(zip_file.open(df_path), encoding='latin-1')\n"
     ]
    },
    {
     "name": "stdout",
     "output_type": "stream",
     "text": [
      "Processing 2021 April\n"
     ]
    },
    {
     "name": "stderr",
     "output_type": "stream",
     "text": [
      "C:\\Users\\Joris\\AppData\\Local\\Temp\\ipykernel_11196\\848879554.py:102: DtypeWarning: Columns (5,7,8,9,10,11) have mixed types. Specify dtype option on import or set low_memory=False.\n",
      "  month_df = pd.read_csv(zip_file.open(df_path), encoding='latin-1')\n"
     ]
    },
    {
     "name": "stdout",
     "output_type": "stream",
     "text": [
      "Processing 2021 May\n"
     ]
    },
    {
     "name": "stderr",
     "output_type": "stream",
     "text": [
      "C:\\Users\\Joris\\AppData\\Local\\Temp\\ipykernel_11196\\848879554.py:102: DtypeWarning: Columns (5,7,8,9,10,11) have mixed types. Specify dtype option on import or set low_memory=False.\n",
      "  month_df = pd.read_csv(zip_file.open(df_path), encoding='latin-1')\n"
     ]
    },
    {
     "name": "stdout",
     "output_type": "stream",
     "text": [
      "Processing 2021 June\n"
     ]
    },
    {
     "name": "stderr",
     "output_type": "stream",
     "text": [
      "C:\\Users\\Joris\\AppData\\Local\\Temp\\ipykernel_11196\\848879554.py:102: DtypeWarning: Columns (5,7,8,9,10,11) have mixed types. Specify dtype option on import or set low_memory=False.\n",
      "  month_df = pd.read_csv(zip_file.open(df_path), encoding='latin-1')\n"
     ]
    },
    {
     "name": "stdout",
     "output_type": "stream",
     "text": [
      "Processing 2021 July\n"
     ]
    },
    {
     "name": "stderr",
     "output_type": "stream",
     "text": [
      "C:\\Users\\Joris\\AppData\\Local\\Temp\\ipykernel_11196\\848879554.py:102: DtypeWarning: Columns (5,7,8,9,10,11) have mixed types. Specify dtype option on import or set low_memory=False.\n",
      "  month_df = pd.read_csv(zip_file.open(df_path), encoding='latin-1')\n"
     ]
    },
    {
     "name": "stdout",
     "output_type": "stream",
     "text": [
      "Processing 2021 August\n"
     ]
    },
    {
     "name": "stderr",
     "output_type": "stream",
     "text": [
      "C:\\Users\\Joris\\AppData\\Local\\Temp\\ipykernel_11196\\848879554.py:102: DtypeWarning: Columns (5,7,8,9,10,11) have mixed types. Specify dtype option on import or set low_memory=False.\n",
      "  month_df = pd.read_csv(zip_file.open(df_path), encoding='latin-1')\n"
     ]
    },
    {
     "name": "stdout",
     "output_type": "stream",
     "text": [
      "Processing 2021 September\n",
      "No csv found for 2021 September\n",
      "Processing 2021 October\n"
     ]
    },
    {
     "name": "stderr",
     "output_type": "stream",
     "text": [
      "C:\\Users\\Joris\\AppData\\Local\\Temp\\ipykernel_11196\\848879554.py:102: DtypeWarning: Columns (5,7,8,9,10,11) have mixed types. Specify dtype option on import or set low_memory=False.\n",
      "  month_df = pd.read_csv(zip_file.open(df_path), encoding='latin-1')\n"
     ]
    },
    {
     "name": "stdout",
     "output_type": "stream",
     "text": [
      "Processing 2021 November\n"
     ]
    },
    {
     "name": "stderr",
     "output_type": "stream",
     "text": [
      "C:\\Users\\Joris\\AppData\\Local\\Temp\\ipykernel_11196\\848879554.py:102: DtypeWarning: Columns (5,7,8,9,10,11) have mixed types. Specify dtype option on import or set low_memory=False.\n",
      "  month_df = pd.read_csv(zip_file.open(df_path), encoding='latin-1')\n"
     ]
    },
    {
     "name": "stdout",
     "output_type": "stream",
     "text": [
      "Processing 2021 December\n"
     ]
    },
    {
     "name": "stderr",
     "output_type": "stream",
     "text": [
      "C:\\Users\\Joris\\AppData\\Local\\Temp\\ipykernel_11196\\848879554.py:102: DtypeWarning: Columns (5,7,8,9,10,11) have mixed types. Specify dtype option on import or set low_memory=False.\n",
      "  month_df = pd.read_csv(zip_file.open(df_path), encoding='latin-1')\n"
     ]
    },
    {
     "name": "stdout",
     "output_type": "stream",
     "text": [
      "Total no. of rows: 22811920\n",
      "Memory usage:\n",
      "<class 'pandas.core.frame.DataFrame'>\n",
      "Index: 22811920 entries, 0 to 1706502\n",
      "Data columns (total 13 columns):\n",
      " #   Column                   Dtype         \n",
      "---  ------                   -----         \n",
      " 0   rideable type            object        \n",
      " 1   starttime                datetime64[ns]\n",
      " 2   stoptime                 datetime64[ns]\n",
      " 3   start station name       object        \n",
      " 4   start station id         float64       \n",
      " 5   end station name         object        \n",
      " 6   end station id           float64       \n",
      " 7   start station latitude   float32       \n",
      " 8   start station longitude  float32       \n",
      " 9   end station latitude     float32       \n",
      " 10  end station longitude    float32       \n",
      " 11  usertype                 object        \n",
      " 12  month                    category      \n",
      "dtypes: category(1), datetime64[ns](2), float32(4), float64(2), object(4)\n",
      "memory usage: 7.4 GB\n",
      "None\n",
      "Loaded file from disk.\n"
     ]
    }
   ],
   "source": [
    "data_2021 = load_data('tripdata', 2021)"
   ]
  },
  {
   "cell_type": "markdown",
   "id": "996adf4f-5e61-4682-b5ab-e963934590c4",
   "metadata": {},
   "source": [
    "# Inspect citibike trip data"
   ]
  },
  {
   "cell_type": "code",
   "execution_count": 29,
   "id": "e4e6edc8-4fad-47d4-a49c-1650ecd939c5",
   "metadata": {},
   "outputs": [],
   "source": [
    "def plot_tripcount_monthly(year: str, year_dict: dict):\n",
    "    month_counts = year_dict['month'].value_counts().sort_index()\n",
    "    fig = plt.figure(figsize = (10, 5))\n",
    "    month_counts.plot(kind='bar', width=0.7)\n",
    "    \n",
    "    plt.xlabel(\"month\")\n",
    "    plt.ylabel(\"No. of trips\")\n",
    "    plt.title(f\"Citibike Total Trips per Month in {year}\")\n",
    "    plt.show()"
   ]
  },
  {
   "cell_type": "code",
   "execution_count": 30,
   "id": "13673eb0-f0dc-4845-855d-db0ba47f9f18",
   "metadata": {},
   "outputs": [
    {
     "data": {
      "image/png": "[encoded data removed]",
      "text/plain": [
       "<Figure size 1000x500 with 1 Axes>"
      ]
     },
     "metadata": {},
     "output_type": "display_data"
    }
   ],
   "source": [
    "plot_tripcount_monthly('2013', data_2013)"
   ]
  },
  {
   "cell_type": "code",
   "execution_count": 31,
   "id": "0b0a28af-e824-497b-bf4f-03fe05470b62",
   "metadata": {},
   "outputs": [
    {
     "data": {
      "image/png": "[encoded data removed]",
      "text/plain": [
       "<Figure size 1000x500 with 1 Axes>"
      ]
     },
     "metadata": {},
     "output_type": "display_data"
    }
   ],
   "source": [
    "plot_tripcount_monthly('2014', data_2014)"
   ]
  },
  {
   "cell_type": "code",
   "execution_count": 32,
   "id": "7c90b142-56e2-46f6-883c-deb2748ea1d8",
   "metadata": {},
   "outputs": [
    {
     "data": {
      "image/png": "[encoded data removed]",
      "text/plain": [
       "<Figure size 1000x500 with 1 Axes>"
      ]
     },
     "metadata": {},
     "output_type": "display_data"
    }
   ],
   "source": [
    "plot_tripcount_monthly('2013', data_2019)"
   ]
  },
  {
   "cell_type": "code",
   "execution_count": 34,
   "id": "7a92f56e-2a21-4dda-899b-5e15e522fd47",
   "metadata": {},
   "outputs": [
    {
     "data": {
      "image/png": "[encoded data removed]",
      "text/plain": [
       "<Figure size 1000x500 with 1 Axes>"
      ]
     },
     "metadata": {},
     "output_type": "display_data"
    }
   ],
   "source": [
    "plot_tripcount_monthly('2021', data_2021)"
   ]
  },
  {
   "cell_type": "code",
   "execution_count": 35,
   "id": "acb02d5b-40b2-4bc5-a23a-9ac9a9c96609",
   "metadata": {},
   "outputs": [],
   "source": [
    "# If month is not specified, plot over whole year\n",
    "def plot_triphour(year: str, df: dict):\n",
    "    df_count = df[\"starttime\"].groupby(df[\"starttime\"].dt.hour).count()\n",
    "    df_count.plot(kind=\"bar\",  figsize=(10, 5), ylabel='count')\n",
    "    plt.title(f'Trip Hour Distribution {year}', fontsize=16)\n"
   ]
  },
  {
   "cell_type": "code",
   "execution_count": 36,
   "id": "ea1a90fd-a811-4577-b7c1-2a75b9e70786",
   "metadata": {},
   "outputs": [
    {
     "data": {
      "image/png": "[encoded data removed]",
      "text/plain": [
       "<Figure size 1000x500 with 1 Axes>"
      ]
     },
     "metadata": {},
     "output_type": "display_data"
    }
   ],
   "source": [
    "plot_triphour('2013', data_2013)"
   ]
  },
  {
   "cell_type": "code",
   "execution_count": 37,
   "id": "8ad9f291-80d8-4da1-9fef-10e03789b435",
   "metadata": {},
   "outputs": [
    {
     "data": {
      "image/png": "[encoded data removed]",
      "text/plain": [
       "<Figure size 1000x500 with 1 Axes>"
      ]
     },
     "metadata": {},
     "output_type": "display_data"
    }
   ],
   "source": [
    "plot_triphour('2014', data_2014)"
   ]
  },
  {
   "cell_type": "code",
   "execution_count": 38,
   "id": "511e9547-7b9b-49fa-9ccd-9339b0b1e4d5",
   "metadata": {},
   "outputs": [],
   "source": [
    "def plot_age_distribution(year, df):\n",
    "    df['age'] = int(year) - df['birth year']\n",
    "    fig = plt.figure(figsize = (10, 5))\n",
    "    ax = df['age'].plot(kind='hist', bins=20, density=True, color='skyblue', edgecolor='black', alpha=0.7)\n",
    "    #ax.yaxis.set_major_formatter(plt.FuncFormatter(lambda y, _: f'{y * 100:.0f}%'))\n",
    "    ax.set_xlim([0, 100])\n",
    "    plt.title(f'Relative Age Distribution {year}', fontsize=16)\n",
    "    plt.xlabel('Age', fontsize=14)\n",
    "    plt.ylabel('Relative Frequency', fontsize=14)\n",
    "    plt.grid(axis='y', linestyle='--', alpha=0.7)\n",
    "    \n",
    "    plt.show()\n",
    "    \n",
    "def plot_age_distribution_kde(year, df):\n",
    "    df['age'] = int(year) - df['birth year']\n",
    "    fig = plt.figure(figsize = (10, 5))\n",
    "\n",
    "    ax = sns.kdeplot(df['age'], fill=True, color='skyblue')\n",
    "\n",
    "    # Convert density to percentage\n",
    "    ax.yaxis.set_major_formatter(plt.FuncFormatter(lambda y, _: f'{y * 100:.0f}%'))\n",
    "    \n",
    "    plt.title('Relative Age Distribution (KDE)', fontsize=16)\n",
    "    plt.xlabel('Age', fontsize=14)\n",
    "    plt.ylabel('Percentage', fontsize=14)\n",
    "    plt.grid(axis='y', linestyle='--', alpha=0.7)\n",
    "    plt.show()"
   ]
  },
  {
   "cell_type": "code",
   "execution_count": 39,
   "id": "6f1750a5-e745-4d4f-bbed-8026d4a284d7",
   "metadata": {},
   "outputs": [
    {
     "data": {
      "image/png": "[encoded data removed]",
      "text/plain": [
       "<Figure size 1000x500 with 1 Axes>"
      ]
     },
     "metadata": {},
     "output_type": "display_data"
    }
   ],
   "source": [
    "plot_age_distribution('2013', data_2013)"
   ]
  },
  {
   "cell_type": "code",
   "execution_count": 40,
   "id": "9c31f6ee-3e7b-4e32-a48a-5a0a5ad38405",
   "metadata": {},
   "outputs": [
    {
     "data": {
      "image/png": "[encoded data removed]",
      "text/plain": [
       "<Figure size 1000x500 with 1 Axes>"
      ]
     },
     "metadata": {},
     "output_type": "display_data"
    }
   ],
   "source": [
    "plot_age_distribution('2014', data_2014)"
   ]
  },
  {
   "cell_type": "code",
   "execution_count": 41,
   "id": "30ec31bd-1ff8-49e1-ac9a-669cda393f54",
   "metadata": {},
   "outputs": [
    {
     "data": {
      "image/png": "[encoded data removed]",
      "text/plain": [
       "<Figure size 1000x500 with 1 Axes>"
      ]
     },
     "metadata": {},
     "output_type": "display_data"
    }
   ],
   "source": [
    "plot_age_distribution_kde('2014', data_2014)"
   ]
  },
  {
   "cell_type": "markdown",
   "id": "567b13e0-409b-4436-a959-81fdd04543ea",
   "metadata": {},
   "source": [
    "# Insights into citibike data:\n",
    "- Most trips between 6 am and 23 pm\n",
    "- More trips in March to October\n",
    "- Mostly young people"
   ]
  },
  {
   "cell_type": "code",
   "execution_count": 42,
   "id": "0652fd67-2ac0-4d7e-aa09-18c553aef7f2",
   "metadata": {},
   "outputs": [],
   "source": [
    "def plot_age_evolution(start_year, end_year):\n",
    "    age_groups = [0, 8, 17, 26, 35, 44, 53, 62, 71, 100]  # 100+ to include all possible ages\n",
    "    age_group_labels = ['0-8', '9-17', '18-26', '27-35', '36-44', '45-53', '54-62','63-71', '72+']\n",
    "    results = []\n",
    "    year_kde_data = []\n",
    "    years = [year for year in range(start_year, end_year + 1)]\n",
    "    for year in years:\n",
    "        year_df = load_data('tripdata', year)\n",
    "        year_df = year_df[['birth year']]\n",
    "        year_df['age'] = year - year_df['birth year']\n",
    "        year_df['age_group'] = pd.cut(year_df['age'], bins=age_groups, labels=age_group_labels, right=False)\n",
    "        age_group_counts = year_df['age_group'].value_counts(normalize=False)# * 100  # Percentages\n",
    "        age_group_counts = age_group_counts.reindex(age_group_labels)\n",
    "        print(age_group_counts)\n",
    "        results.append(age_group_counts)\n",
    "        year_df['year'] = year\n",
    "        year_kde_data.append(year_df[['age', 'year']])\n",
    "        \n",
    "    heatmap_data = pd.DataFrame(results, index=years).fillna(0)\n",
    "    heatmap_change = heatmap_data.pct_change().fillna(0) * 100  # Percent change to the previous year\n",
    "\n",
    "    year_kde_data = pd.concat(year_kde_data, ignore_index=True)\n",
    "\n",
    "    # Plot the heatmap\n",
    "    plt.figure(figsize=(10, 6))\n",
    "    heatmap = sns.heatmap(heatmap_change, annot=True, fmt=\".1f\", cmap=\"coolwarm\", cbar_kws={'label': 'Change [%]'}, linewidths=0.5)\n",
    "    plt.title('Yearly Percentage Change to Previous Year per Age Group')\n",
    "    plt.xlabel('Age Group')\n",
    "    plt.ylabel('Year')\n",
    "    fig = heatmap.get_figure()\n",
    "    fig.savefig(f\"../plots/age_evolution/heatmap_{start_year}_to_{end_year}.png\") \n",
    "    plt.show()\n",
    "\n",
    "    # Plot ridge line plot\n",
    "    g = sns.FacetGrid(year_kde_data, row=\"year\", hue=\"year\", aspect=4, height=1.5, palette=\"coolwarm\", sharey=False)\n",
    "    g.map(sns.kdeplot, \"age\", fill=True, alpha=0.6, linewidth=1.5)\n",
    "    \n",
    "    g.set_titles(\"{row_name}\")\n",
    "    g.set(yticks=[], ylabel=\"\", xlabel=\"Age\")\n",
    "    g.set(xlim=(0, 90))\n",
    "\n",
    "    g.despine(left=True)\n",
    "    g.fig.subplots_adjust(hspace=0.3)\n",
    "    g.fig.suptitle('Age Distribution by Year', fontsize=16, y=1.02)\n",
    "\n",
    "    g.savefig(f\"../plots/age_evolution/ridge_plot_{start_year}_to_{end_year}.png\")\n",
    "    plt.show()"
   ]
  },
  {
   "cell_type": "code",
   "execution_count": 43,
   "id": "97d12920-fd0a-40f9-90f2-c5f788dd64a4",
   "metadata": {
    "scrolled": true
   },
   "outputs": [],
   "source": [
    "# Runs for 20 mins\n",
    "# plot_age_evolution(2013, 2019)"
   ]
  },
  {
   "cell_type": "markdown",
   "id": "bbaa3f86-65c8-46cb-99dc-f30753131968",
   "metadata": {},
   "source": [
    "# Inspect NYPD Crash data"
   ]
  },
  {
   "cell_type": "code",
   "execution_count": 44,
   "id": "ee7555dc-5ecc-4d2d-a5b4-f04266bf32ac",
   "metadata": {},
   "outputs": [
    {
     "name": "stdout",
     "output_type": "stream",
     "text": [
      "Trying to load file from disk.\n"
     ]
    },
    {
     "name": "stderr",
     "output_type": "stream",
     "text": [
      "C:\\Users\\Joris\\AppData\\Local\\Temp\\ipykernel_11196\\848879554.py:141: DtypeWarning: Columns (3) have mixed types. Specify dtype option on import or set low_memory=False.\n",
      "  df = pd.read_csv(input_path)\n"
     ]
    },
    {
     "name": "stdout",
     "output_type": "stream",
     "text": [
      "Loaded file from disk.\n"
     ]
    }
   ],
   "source": [
    "# Functions to load and process NYPD data\n",
    "data_nypd = load_data('nypd')"
   ]
  },
  {
   "cell_type": "code",
   "execution_count": 45,
   "id": "a841d70b-09c1-46aa-a51b-48a133c23bb3",
   "metadata": {},
   "outputs": [
    {
     "data": {
      "text/plain": [
       "NUMBER OF CYCLIST INJURED\n",
       "0    2079039\n",
       "1      58192\n",
       "2        672\n",
       "3         24\n",
       "4          1\n",
       "Name: count, dtype: int64"
      ]
     },
     "execution_count": 45,
     "metadata": {},
     "output_type": "execute_result"
    }
   ],
   "source": [
    "data_nypd['NUMBER OF CYCLIST INJURED'].value_counts()"
   ]
  },
  {
   "cell_type": "code",
   "execution_count": 46,
   "id": "235873f3-309d-44fd-a24c-6cfe27e2d10d",
   "metadata": {},
   "outputs": [
    {
     "data": {
      "text/plain": [
       "NUMBER OF CYCLIST KILLED\n",
       "0    2137671\n",
       "1        256\n",
       "2          1\n",
       "Name: count, dtype: int64"
      ]
     },
     "execution_count": 46,
     "metadata": {},
     "output_type": "execute_result"
    }
   ],
   "source": [
    "data_nypd['NUMBER OF CYCLIST KILLED'].value_counts()"
   ]
  },
  {
   "cell_type": "code",
   "execution_count": 47,
   "id": "bac04267-2f87-498c-97db-d29ef7b0da6b",
   "metadata": {},
   "outputs": [
    {
     "name": "stdout",
     "output_type": "stream",
     "text": [
      "2012-07-01 to 2024-11-25\n"
     ]
    }
   ],
   "source": [
    "date_range = str(data_nypd['CRASH DATE'].dt.date.min()) + ' to ' +str(data_nypd['CRASH DATE'].dt.date.max())\n",
    "print(date_range)"
   ]
  },
  {
   "cell_type": "code",
   "execution_count": 48,
   "id": "15ce12b1-3cb5-44e0-b3b0-27ffbb0d8c30",
   "metadata": {},
   "outputs": [
    {
     "data": {
      "text/html": [
       "<div>\n",
       "<style scoped>\n",
       "    .dataframe tbody tr th:only-of-type {\n",
       "        vertical-align: middle;\n",
       "    }\n",
       "\n",
       "    .dataframe tbody tr th {\n",
       "        vertical-align: top;\n",
       "    }\n",
       "\n",
       "    .dataframe thead th {\n",
       "        text-align: right;\n",
       "    }\n",
       "</style>\n",
       "<table border=\"1\" class=\"dataframe\">\n",
       "  <thead>\n",
       "    <tr style=\"text-align: right;\">\n",
       "      <th></th>\n",
       "      <th>CRASH DATE</th>\n",
       "      <th>CRASH TIME</th>\n",
       "      <th>LATITUDE</th>\n",
       "      <th>LONGITUDE</th>\n",
       "      <th>LOCATION</th>\n",
       "      <th>ON STREET NAME</th>\n",
       "      <th>NUMBER OF PERSONS INJURED</th>\n",
       "      <th>NUMBER OF PERSONS KILLED</th>\n",
       "      <th>NUMBER OF PEDESTRIANS INJURED</th>\n",
       "      <th>NUMBER OF PEDESTRIANS KILLED</th>\n",
       "      <th>NUMBER OF CYCLIST INJURED</th>\n",
       "      <th>NUMBER OF CYCLIST KILLED</th>\n",
       "      <th>NUMBER OF MOTORIST INJURED</th>\n",
       "      <th>NUMBER OF MOTORIST KILLED</th>\n",
       "      <th>COLLISION_ID</th>\n",
       "      <th>VEHICLE TYPE CODE 1</th>\n",
       "      <th>VEHICLE TYPE CODE 2</th>\n",
       "    </tr>\n",
       "  </thead>\n",
       "  <tbody>\n",
       "    <tr>\n",
       "      <th>0</th>\n",
       "      <td>2021-09-11</td>\n",
       "      <td>2</td>\n",
       "      <td>NaN</td>\n",
       "      <td>NaN</td>\n",
       "      <td>NaN</td>\n",
       "      <td>WHITESTONE EXPRESSWAY</td>\n",
       "      <td>2.0</td>\n",
       "      <td>0.0</td>\n",
       "      <td>0</td>\n",
       "      <td>0</td>\n",
       "      <td>0</td>\n",
       "      <td>0</td>\n",
       "      <td>2</td>\n",
       "      <td>0</td>\n",
       "      <td>4455765</td>\n",
       "      <td>Sedan</td>\n",
       "      <td>Sedan</td>\n",
       "    </tr>\n",
       "    <tr>\n",
       "      <th>1</th>\n",
       "      <td>2022-03-26</td>\n",
       "      <td>11</td>\n",
       "      <td>NaN</td>\n",
       "      <td>NaN</td>\n",
       "      <td>NaN</td>\n",
       "      <td>QUEENSBORO BRIDGE UPPER</td>\n",
       "      <td>1.0</td>\n",
       "      <td>0.0</td>\n",
       "      <td>0</td>\n",
       "      <td>0</td>\n",
       "      <td>0</td>\n",
       "      <td>0</td>\n",
       "      <td>1</td>\n",
       "      <td>0</td>\n",
       "      <td>4513547</td>\n",
       "      <td>Sedan</td>\n",
       "      <td>NaN</td>\n",
       "    </tr>\n",
       "    <tr>\n",
       "      <th>2</th>\n",
       "      <td>2022-06-29</td>\n",
       "      <td>6</td>\n",
       "      <td>NaN</td>\n",
       "      <td>NaN</td>\n",
       "      <td>NaN</td>\n",
       "      <td>THROGS NECK BRIDGE</td>\n",
       "      <td>0.0</td>\n",
       "      <td>0.0</td>\n",
       "      <td>0</td>\n",
       "      <td>0</td>\n",
       "      <td>0</td>\n",
       "      <td>0</td>\n",
       "      <td>0</td>\n",
       "      <td>0</td>\n",
       "      <td>4541903</td>\n",
       "      <td>Sedan</td>\n",
       "      <td>Pick-up Truck</td>\n",
       "    </tr>\n",
       "    <tr>\n",
       "      <th>3</th>\n",
       "      <td>2021-09-11</td>\n",
       "      <td>9</td>\n",
       "      <td>40.667202</td>\n",
       "      <td>-73.866500</td>\n",
       "      <td>(40.667202, -73.8665)</td>\n",
       "      <td>NaN</td>\n",
       "      <td>0.0</td>\n",
       "      <td>0.0</td>\n",
       "      <td>0</td>\n",
       "      <td>0</td>\n",
       "      <td>0</td>\n",
       "      <td>0</td>\n",
       "      <td>0</td>\n",
       "      <td>0</td>\n",
       "      <td>4456314</td>\n",
       "      <td>Sedan</td>\n",
       "      <td>NaN</td>\n",
       "    </tr>\n",
       "    <tr>\n",
       "      <th>4</th>\n",
       "      <td>2021-12-14</td>\n",
       "      <td>8</td>\n",
       "      <td>40.683304</td>\n",
       "      <td>-73.917274</td>\n",
       "      <td>(40.683304, -73.917274)</td>\n",
       "      <td>SARATOGA AVENUE</td>\n",
       "      <td>0.0</td>\n",
       "      <td>0.0</td>\n",
       "      <td>0</td>\n",
       "      <td>0</td>\n",
       "      <td>0</td>\n",
       "      <td>0</td>\n",
       "      <td>0</td>\n",
       "      <td>0</td>\n",
       "      <td>4486609</td>\n",
       "      <td>NaN</td>\n",
       "      <td>NaN</td>\n",
       "    </tr>\n",
       "  </tbody>\n",
       "</table>\n",
       "</div>"
      ],
      "text/plain": [
       "  CRASH DATE  CRASH TIME   LATITUDE  LONGITUDE                 LOCATION  \\\n",
       "0 2021-09-11           2        NaN        NaN                      NaN   \n",
       "1 2022-03-26          11        NaN        NaN                      NaN   \n",
       "2 2022-06-29           6        NaN        NaN                      NaN   \n",
       "3 2021-09-11           9  40.667202 -73.866500    (40.667202, -73.8665)   \n",
       "4 2021-12-14           8  40.683304 -73.917274  (40.683304, -73.917274)   \n",
       "\n",
       "            ON STREET NAME  NUMBER OF PERSONS INJURED  \\\n",
       "0    WHITESTONE EXPRESSWAY                        2.0   \n",
       "1  QUEENSBORO BRIDGE UPPER                        1.0   \n",
       "2       THROGS NECK BRIDGE                        0.0   \n",
       "3                      NaN                        0.0   \n",
       "4          SARATOGA AVENUE                        0.0   \n",
       "\n",
       "   NUMBER OF PERSONS KILLED  NUMBER OF PEDESTRIANS INJURED  \\\n",
       "0                       0.0                              0   \n",
       "1                       0.0                              0   \n",
       "2                       0.0                              0   \n",
       "3                       0.0                              0   \n",
       "4                       0.0                              0   \n",
       "\n",
       "   NUMBER OF PEDESTRIANS KILLED  NUMBER OF CYCLIST INJURED  \\\n",
       "0                             0                          0   \n",
       "1                             0                          0   \n",
       "2                             0                          0   \n",
       "3                             0                          0   \n",
       "4                             0                          0   \n",
       "\n",
       "   NUMBER OF CYCLIST KILLED  NUMBER OF MOTORIST INJURED  \\\n",
       "0                         0                           2   \n",
       "1                         0                           1   \n",
       "2                         0                           0   \n",
       "3                         0                           0   \n",
       "4                         0                           0   \n",
       "\n",
       "   NUMBER OF MOTORIST KILLED  COLLISION_ID VEHICLE TYPE CODE 1  \\\n",
       "0                          0       4455765               Sedan   \n",
       "1                          0       4513547               Sedan   \n",
       "2                          0       4541903               Sedan   \n",
       "3                          0       4456314               Sedan   \n",
       "4                          0       4486609                 NaN   \n",
       "\n",
       "  VEHICLE TYPE CODE 2  \n",
       "0               Sedan  \n",
       "1                 NaN  \n",
       "2       Pick-up Truck  \n",
       "3                 NaN  \n",
       "4                 NaN  "
      ]
     },
     "execution_count": 48,
     "metadata": {},
     "output_type": "execute_result"
    }
   ],
   "source": [
    "data_nypd.head()"
   ]
  },
  {
   "cell_type": "code",
   "execution_count": 49,
   "id": "f5e8ecb8-0003-4cf9-9538-ad5ca342db27",
   "metadata": {},
   "outputs": [],
   "source": [
    "#vehicle_codes = data_nypd['VEHICLE TYPE CODE 1'].value_counts()"
   ]
  },
  {
   "cell_type": "code",
   "execution_count": 50,
   "id": "9b5f9a1b-f795-42aa-a8ca-1445f6782fba",
   "metadata": {},
   "outputs": [],
   "source": [
    "#vehicle_codes['BICYCLE']"
   ]
  },
  {
   "cell_type": "code",
   "execution_count": 51,
   "id": "38042e44-7298-4f76-9739-082698ec03b0",
   "metadata": {},
   "outputs": [
    {
     "name": "stdout",
     "output_type": "stream",
     "text": [
      "<class 'pandas.core.frame.DataFrame'>\n",
      "RangeIndex: 2137928 entries, 0 to 2137927\n",
      "Data columns (total 17 columns):\n",
      " #   Column                         Dtype         \n",
      "---  ------                         -----         \n",
      " 0   CRASH DATE                     datetime64[ns]\n",
      " 1   CRASH TIME                     int32         \n",
      " 2   LATITUDE                       float64       \n",
      " 3   LONGITUDE                      float64       \n",
      " 4   LOCATION                       object        \n",
      " 5   ON STREET NAME                 object        \n",
      " 6   NUMBER OF PERSONS INJURED      float64       \n",
      " 7   NUMBER OF PERSONS KILLED       float64       \n",
      " 8   NUMBER OF PEDESTRIANS INJURED  int64         \n",
      " 9   NUMBER OF PEDESTRIANS KILLED   int64         \n",
      " 10  NUMBER OF CYCLIST INJURED      int64         \n",
      " 11  NUMBER OF CYCLIST KILLED       int64         \n",
      " 12  NUMBER OF MOTORIST INJURED     int64         \n",
      " 13  NUMBER OF MOTORIST KILLED      int64         \n",
      " 14  COLLISION_ID                   int64         \n",
      " 15  VEHICLE TYPE CODE 1            object        \n",
      " 16  VEHICLE TYPE CODE 2            object        \n",
      "dtypes: datetime64[ns](1), float64(4), int32(1), int64(7), object(4)\n",
      "memory usage: 790.3 MB\n"
     ]
    }
   ],
   "source": [
    "data_nypd.info(memory_usage='deep')"
   ]
  },
  {
   "cell_type": "code",
   "execution_count": 52,
   "id": "1c621734-163b-474c-b95a-e94902b7ba16",
   "metadata": {},
   "outputs": [
    {
     "name": "stdout",
     "output_type": "stream",
     "text": [
      "Total cyclist accidents (including overlaps): 59138\n",
      "Total motorist accidents (including overlaps): 320207\n",
      "Accidents involving both cyclists and motorists: 629\n",
      "Ratio of motorist accidents to cyclist accidents: 5.41\n"
     ]
    }
   ],
   "source": [
    "# construct dataset for cyclist and motorist accidents\n",
    "cyclist_accidents = data_nypd[\n",
    "    (data_nypd[\"NUMBER OF CYCLIST INJURED\"] > 0) | (data_nypd[\"NUMBER OF CYCLIST KILLED\"] > 0)\n",
    "][\"COLLISION_ID\"].unique()\n",
    "\n",
    "motorist_accidents = data_nypd[\n",
    "    (data_nypd[\"NUMBER OF MOTORIST INJURED\"] > 0) | (data_nypd[\"NUMBER OF MOTORIST KILLED\"] > 0)\n",
    "][\"COLLISION_ID\"].unique()\n",
    "\n",
    "# Datasets consist of unique COLLISION_ID's\n",
    "cyclist_accidents_set = set(cyclist_accidents)\n",
    "motorist_accidents_set = set(motorist_accidents)\n",
    "\n",
    "# There can be overlap between cyclist and motorist accidents\n",
    "# Use the difference and union between the cyclist and motorist sets to calculate the overlap\n",
    "cyclist_only_accidents = len(cyclist_accidents_set - motorist_accidents_set)\n",
    "motorist_only_accidents = len(motorist_accidents_set - cyclist_accidents_set)\n",
    "both_cyclists_and_motorists = len(cyclist_accidents_set & motorist_accidents_set)\n",
    "\n",
    "total_cyclist_accidents = cyclist_only_accidents + both_cyclists_and_motorists\n",
    "total_motorist_accidents = motorist_only_accidents + both_cyclists_and_motorists\n",
    "\n",
    "motorist_to_cyclist_ratio = total_motorist_accidents / total_cyclist_accidents\n",
    "\n",
    "print(f\"Total cyclist accidents (including overlaps): {total_cyclist_accidents}\")\n",
    "print(f\"Total motorist accidents (including overlaps): {total_motorist_accidents}\")\n",
    "print(f\"Accidents involving both cyclists and motorists: {both_cyclists_and_motorists}\")\n",
    "print(f\"Ratio of motorist accidents to cyclist accidents: {motorist_to_cyclist_ratio:.2f}\")"
   ]
  },
  {
   "cell_type": "code",
   "execution_count": 53,
   "id": "3e111ca6-e07e-4aac-80af-6a1818376d98",
   "metadata": {},
   "outputs": [
    {
     "name": "stdout",
     "output_type": "stream",
     "text": [
      "Likelihood of a cyclist being killed: 0.43%\n",
      "Likelihood of a motorist being killed: 0.28%\n"
     ]
    }
   ],
   "source": [
    "total_cyclist_injured = data_nypd[\"NUMBER OF CYCLIST INJURED\"].sum()\n",
    "total_cyclist_killed = data_nypd[\"NUMBER OF CYCLIST KILLED\"].sum()\n",
    "\n",
    "total_motorist_injured = data_nypd[\"NUMBER OF MOTORIST INJURED\"].sum()\n",
    "total_motorist_killed = data_nypd[\"NUMBER OF MOTORIST KILLED\"].sum()\n",
    "\n",
    "likelihood_cyclist_killed = total_cyclist_killed / total_cyclist_injured if total_cyclist_injured > 0 else 0\n",
    "likelihood_motorist_killed = total_motorist_killed / total_motorist_injured if total_motorist_injured > 0 else 0\n",
    "\n",
    "print(f\"Likelihood of a cyclist being killed: {likelihood_cyclist_killed:.2%}\")\n",
    "print(f\"Likelihood of a motorist being killed: {likelihood_motorist_killed:.2%}\")"
   ]
  },
  {
   "cell_type": "markdown",
   "id": "29a251ea-cafa-49f5-8ef6-d3ae99ac72a8",
   "metadata": {},
   "source": [
    "### The ratio of motorist accidents to cyclist accidents is 5.4"
   ]
  },
  {
   "cell_type": "markdown",
   "id": "2aeab4c5-e207-4c73-8c09-b6d1c4afa0ac",
   "metadata": {},
   "source": [
    "# Seasonal Trends in bicycle crashes"
   ]
  },
  {
   "cell_type": "code",
   "execution_count": 54,
   "id": "13ee3332-f61e-4192-8e06-d901d8ca1e90",
   "metadata": {},
   "outputs": [],
   "source": [
    "def plot_seasonal(df):    \n",
    "    df['month'] = df['CRASH DATE'].dt.month\n",
    "\n",
    "    # Categorize months into seasons\n",
    "    def get_season(month):\n",
    "        if month in [12, 1, 2]:\n",
    "            return 'Winter'\n",
    "        elif month in [3, 4, 5]:\n",
    "            return 'Spring'\n",
    "        elif month in [6, 7, 8]:\n",
    "            return 'Summer'\n",
    "        else:\n",
    "            return 'Fall'\n",
    "\n",
    "    df['season'] = df['month'].apply(get_season)\n",
    "    \n",
    "    injured = df[df['NUMBER OF CYCLIST INJURED'] > 0]\n",
    "    killed = df[df['NUMBER OF CYCLIST KILLED'] > 0]\n",
    "    # Count total number of crashes per season\n",
    "    total_per_season = df.groupby('season')['CRASH DATE'].count()\n",
    "    injured_per_season = injured.groupby('season')['CRASH DATE'].count()\n",
    "    killed_per_season = killed.groupby('season')['CRASH DATE'].count()\n",
    "    \n",
    "    # Calculate ratio of bicycle crashes to total crashes per season\n",
    "    injured_ratio = (injured_per_season / total_per_season) * 100\n",
    "    killed_ratio = (killed_per_season / total_per_season) * 100\n",
    "    plt.figure(figsize=(14, 6))\n",
    "\n",
    "    season_order = ['Spring', 'Summer', 'Fall', 'Winter']\n",
    "\n",
    "    plt.subplot(1, 2, 1)\n",
    "    sns.barplot(x=injured_ratio.index, y=injured_ratio.values, order=season_order)\n",
    "    plt.title('Ratio of Crashes with Injured Cyclists per Season')\n",
    "    plt.xlabel('Season')\n",
    "    plt.ylabel('Ratio of Injured Cyclist Crashes (%)')\n",
    "    plt.xticks(rotation=45)\n",
    "    \n",
    "    plt.subplot(1, 2, 2)\n",
    "    sns.barplot(x=killed_ratio.index, y=killed_ratio.values, order=season_order)\n",
    "    plt.title('Ratio of Crashes with Killed Cyclists per Season')\n",
    "    plt.xlabel('Season')\n",
    "    plt.ylabel('Ratio of Killed Cyclist Crashes (%)')\n",
    "    plt.xticks(rotation=45)\n",
    "    \n",
    "    plt.tight_layout()\n",
    "    plt.show()\n",
    "\n",
    "def plot_hourly(df):\n",
    "\n",
    "    # Only crashes where cyclists were injured or killed\n",
    "    cyclist_crashes = df[(df['NUMBER OF CYCLIST INJURED'] > 0) | (df['NUMBER OF CYCLIST KILLED'] > 0)]\n",
    "    \n",
    "    # Group by hour (extracted before)\n",
    "    hourly_cyclist_crashes = cyclist_crashes.groupby('CRASH TIME').size()\n",
    "    \n",
    "    plt.figure(figsize=(12, 6))\n",
    "    sns.barplot(x=hourly_cyclist_crashes.index, y=hourly_cyclist_crashes.values)\n",
    "    \n",
    "    plt.title('Number of Cyclists Crashes Per Hour (Injured or Killed) 2012-07-01 to 2024-11-25')\n",
    "    plt.xlabel('Hour of the Day')\n",
    "    plt.ylabel('Number of Crashes')\n",
    "    plt.xticks(range(0, 24))\n",
    "    plt.tight_layout()\n",
    "    plt.show()"
   ]
  },
  {
   "cell_type": "code",
   "execution_count": 55,
   "id": "d0b532e9-2ac9-44fb-a55e-ae5e04d3247a",
   "metadata": {},
   "outputs": [
    {
     "data": {
      "image/png": "[encoded data removed]",
      "text/plain": [
       "<Figure size 1400x600 with 2 Axes>"
      ]
     },
     "metadata": {},
     "output_type": "display_data"
    }
   ],
   "source": [
    "plot_seasonal(data_nypd)"
   ]
  },
  {
   "cell_type": "code",
   "execution_count": 56,
   "id": "b8b1a050-83ec-47ee-81bb-95f189522199",
   "metadata": {},
   "outputs": [
    {
     "data": {
      "image/png": "[encoded data removed]",
      "text/plain": [
       "<Figure size 1200x600 with 1 Axes>"
      ]
     },
     "metadata": {},
     "output_type": "display_data"
    }
   ],
   "source": [
    "plot_hourly(data_nypd)"
   ]
  },
  {
   "cell_type": "markdown",
   "id": "746472d9-569e-474b-b853-748615f1a94f",
   "metadata": {},
   "source": [
    "# Analyse geo data from citibke and nypd"
   ]
  },
  {
   "cell_type": "markdown",
   "id": "2254d10e-934e-4999-a0a0-1f6709f195e4",
   "metadata": {},
   "source": [
    "## Station locations on map:\n",
    "### Color and size corresponds to the count in the dataset"
   ]
  },
  {
   "cell_type": "code",
   "execution_count": 57,
   "id": "2e60a7f4-d662-4ba9-996c-5e64afcb1d0c",
   "metadata": {},
   "outputs": [],
   "source": [
    "# Functions to extract geodata in the form of latitude and longitude\n",
    "lat_min, lat_max = 40.3774, 41.0176\n",
    "lon_min, lon_max = -74.3591, -73.6004\n",
    "\n",
    "def get_crash_geodata_yearly(df, year, filter_position=True, only_bike=False):\n",
    "    nypd_geo_header = {\n",
    "        'ON STREET NAME': 'name',\n",
    "        'LATITUDE': 'latitude',\n",
    "        'LONGITUDE': 'longitude'}\n",
    "    \n",
    "    if only_bike:\n",
    "        df = df[(df['NUMBER OF CYCLIST INJURED'] > 0) | (df['NUMBER OF CYCLIST KILLED'] > 0)]\n",
    "\n",
    "    \n",
    "    df = df[df[\"CRASH DATE\"].dt.year == year]\n",
    "\n",
    "    # Select latitude and longitude columns\n",
    "    df = df[[\"LATITUDE\", \"LONGITUDE\", \"ON STREET NAME\"]].dropna(subset=[\"LATITUDE\", \"LONGITUDE\"])\n",
    "    \n",
    "    df = df.rename(columns=nypd_geo_header)\n",
    "\n",
    "    # There are positions outside of new york in the data set (In the pacific ocean)\n",
    "    if filter_position:\n",
    "        df = df[(df['latitude'] >= lat_min) & \n",
    "                  (df['latitude'] <= lat_max) &\n",
    "                  (df['longitude'] >= lon_min) & \n",
    "                  (df['longitude'] <= lon_max)]\n",
    "    \n",
    "\n",
    "    return df\n",
    "\n",
    "def get_citibike_geodata(df, include_counts=False):\n",
    "    citibike_geo_header = {\n",
    "        'start station name': 'name',\n",
    "        'start station latitude': 'latitude',\n",
    "        'start station longitude': 'longitude'}\n",
    "    \n",
    "    if include_counts:\n",
    "        df = df.groupby(['start station name', \"start station latitude\", \"start station longitude\"]).size().reset_index(name='count')\n",
    "    else:\n",
    "        df.drop_duplicates(subset=['start station name'], keep=\"first\")\n",
    "        df = df[['start station name', \"start station latitude\", \"start station longitude\"]]\n",
    "    df = df.rename(columns=citibike_geo_header)\n",
    "    \n",
    "    return df"
   ]
  },
  {
   "cell_type": "code",
   "execution_count": 58,
   "id": "e4d4cccd-4025-4dfa-8c96-353cc7ac58b0",
   "metadata": {},
   "outputs": [],
   "source": [
    "import plotly.io as pio\n",
    "pio.renderers.default = 'iframe'\n",
    "from sklearn.cluster import DBSCAN\n",
    "\n",
    "# Including counts fails for large data frames\n",
    "def plot_positions(position_counts, include_counts=False):\n",
    "    if include_counts:\n",
    "        color = \"count\"\n",
    "        size = \"count\"\n",
    "        hover_data=['name', 'count']\n",
    "    else:\n",
    "        color = None\n",
    "        size = None\n",
    "        hover_data=['name']\n",
    "    color_scale = [(0, 'orange'), (1,'red')]\n",
    "    fig = px.scatter_mapbox(position_counts, \n",
    "                            lat=\"latitude\", \n",
    "                            lon=\"longitude\", \n",
    "                            hover_name='name', \n",
    "                            hover_data=hover_data,\n",
    "                            color=color,\n",
    "                            color_continuous_scale=color_scale,\n",
    "                            size=size,\n",
    "                            zoom=8, \n",
    "                            height=800,\n",
    "                            width=800)\n",
    "    fig.update_layout(mapbox_style=\"open-street-map\")\n",
    "    fig.update_layout(margin={\"r\":0,\"t\":0,\"l\":0,\"b\":0})\n",
    "    fig.show()\n",
    "\n",
    "\n",
    "def plot_positions_cluster(position_counts, batch_size = 20000, eps=0.001, min_samples=5):\n",
    "    # Convert to radians for dbscan\n",
    "    coords = np.radians(position_counts[[\"latitude\", \"longitude\"]].to_numpy())\n",
    "\n",
    "    # Use haversine distance to compute geographical distances\n",
    "    db = DBSCAN(eps=eps, min_samples=min_samples, metric='haversine') # , algorithm='ball_tree'\n",
    "    clusters = []\n",
    "    for start in range(0, len(coords), batch_size):\n",
    "        print(f'processing batch {start / batch_size}')\n",
    "        end = min(start + batch_size, len(coords))\n",
    "        batch_coords = coords[start:end]\n",
    "\n",
    "        # Fit DBSCAN on current batch\n",
    "        batch_labels = db.fit_predict(batch_coords)\n",
    "        batch_clusters = pd.DataFrame({\n",
    "            'latitude': position_counts['latitude'].iloc[start:end],\n",
    "            'longitude': position_counts['longitude'].iloc[start:end],\n",
    "            'cluster': batch_labels\n",
    "        })\n",
    "        clusters.append(batch_clusters)\n",
    "\n",
    "    # Combine the batches into single DataFrame\n",
    "    clustered_positions = pd.concat(clusters, ignore_index=True)\n",
    "    clustered_positions = clustered_positions[clustered_positions['cluster'] != -1]\n",
    "    num_clusters = len(clustered_positions['cluster'].unique())\n",
    "\n",
    "    print(f\"Number of clusters (excluding noise): {num_clusters}\")\n",
    "\n",
    "    cluster_counts = clustered_positions.groupby('cluster').agg(\n",
    "            latitude=('latitude', 'mean'),\n",
    "            longitude=('longitude', 'mean'),\n",
    "            count=('latitude', 'size')\n",
    "        ).reset_index()\n",
    "\n",
    "    # Use 'count' for color and size\n",
    "    color = \"count\"\n",
    "    size = \"count\"\n",
    "    hover_data = ['count', 'cluster']\n",
    "\n",
    "    color_scale = [(0, 'orange'), (1, 'red')]\n",
    "    fig = px.scatter_mapbox(cluster_counts, \n",
    "                            lat=\"latitude\", \n",
    "                            lon=\"longitude\", \n",
    "                            hover_name='cluster', \n",
    "                            hover_data=hover_data,\n",
    "                            color=color,\n",
    "                            color_continuous_scale=color_scale,\n",
    "                            size=size,\n",
    "                            zoom=8, \n",
    "                            height=800,\n",
    "                            width=800)\n",
    "    fig.update_layout(mapbox_style=\"open-street-map\")\n",
    "    fig.update_layout(margin={\"r\":0,\"t\":0,\"l\":0,\"b\":0})\n",
    "    fig.show()"
   ]
  },
  {
   "cell_type": "code",
   "execution_count": 59,
   "id": "ec94845b-cad6-4cb4-a071-42875392d81b",
   "metadata": {},
   "outputs": [],
   "source": [
    "station_counts_2013 = get_citibike_geodata(data_2013, include_counts=True)"
   ]
  },
  {
   "cell_type": "code",
   "execution_count": 60,
   "id": "a05966d4-6dce-43c1-bad7-f675c1568215",
   "metadata": {},
   "outputs": [
    {
     "data": {
      "text/html": [
       "<iframe\n",
       "    scrolling=\"no\"\n",
       "    width=\"820px\"\n",
       "    height=\"820\"\n",
       "    src=\"iframe_figures/figure_60.html\"\n",
       "    frameborder=\"0\"\n",
       "    allowfullscreen\n",
       "></iframe>\n"
      ]
     },
     "metadata": {},
     "output_type": "display_data"
    }
   ],
   "source": [
    "plot_positions(station_counts_2013, include_counts = True)"
   ]
  },
  {
   "cell_type": "code",
   "execution_count": 61,
   "id": "8e9386f2-0c2c-434e-a6fb-b022624a9bc0",
   "metadata": {},
   "outputs": [],
   "source": [
    "station_counts_2021 = get_citibike_geodata(data_2021, include_counts=True)"
   ]
  },
  {
   "cell_type": "code",
   "execution_count": 62,
   "id": "dddef601-1dd4-42ed-8dfd-98b5063d9626",
   "metadata": {},
   "outputs": [
    {
     "data": {
      "text/html": [
       "<iframe\n",
       "    scrolling=\"no\"\n",
       "    width=\"820px\"\n",
       "    height=\"820\"\n",
       "    src=\"iframe_figures/figure_62.html\"\n",
       "    frameborder=\"0\"\n",
       "    allowfullscreen\n",
       "></iframe>\n"
      ]
     },
     "metadata": {},
     "output_type": "display_data"
    }
   ],
   "source": [
    "plot_positions(station_counts_2021, include_counts = True)"
   ]
  },
  {
   "cell_type": "code",
   "execution_count": 63,
   "id": "09689cca-405c-4853-8215-4a0519f104a6",
   "metadata": {},
   "outputs": [
    {
     "name": "stdout",
     "output_type": "stream",
     "text": [
      "94943\n",
      "93078\n"
     ]
    }
   ],
   "source": [
    "# There are positions outside of new york in the nypd crash dataset\n",
    "print(len(get_crash_geodata_yearly(data_nypd, 2022, filter_position=False).index))\n",
    "print(len(get_crash_geodata_yearly(data_nypd, 2022, filter_position=True).index))"
   ]
  },
  {
   "cell_type": "code",
   "execution_count": 64,
   "id": "b664758f-cd83-4f25-8772-15b494002318",
   "metadata": {},
   "outputs": [],
   "source": [
    "nypd_crash_stations_2022 = get_crash_geodata_yearly(data_nypd, 2022)"
   ]
  },
  {
   "cell_type": "code",
   "execution_count": 65,
   "id": "bdfb677e-c869-4358-b769-55ff9d0bf992",
   "metadata": {},
   "outputs": [
    {
     "data": {
      "text/html": [
       "<iframe\n",
       "    scrolling=\"no\"\n",
       "    width=\"820px\"\n",
       "    height=\"820\"\n",
       "    src=\"iframe_figures/figure_65.html\"\n",
       "    frameborder=\"0\"\n",
       "    allowfullscreen\n",
       "></iframe>\n"
      ]
     },
     "metadata": {},
     "output_type": "display_data"
    }
   ],
   "source": [
    "plot_positions(nypd_crash_stations_2022)"
   ]
  },
  {
   "cell_type": "code",
   "execution_count": 66,
   "id": "64d9ea00-341a-4418-9ed8-1c04b60b40d5",
   "metadata": {},
   "outputs": [
    {
     "name": "stdout",
     "output_type": "stream",
     "text": [
      "processing batch 0.0\n",
      "Number of clusters (excluding noise): 1959\n"
     ]
    },
    {
     "data": {
      "text/html": [
       "<iframe\n",
       "    scrolling=\"no\"\n",
       "    width=\"820px\"\n",
       "    height=\"820\"\n",
       "    src=\"iframe_figures/figure_66.html\"\n",
       "    frameborder=\"0\"\n",
       "    allowfullscreen\n",
       "></iframe>\n"
      ]
     },
     "metadata": {},
     "output_type": "display_data"
    }
   ],
   "source": [
    "# eps=0.00001, min_samples=15\n",
    "# General crashes:\n",
    "plot_positions_cluster(nypd_crash_stations_2022, batch_size = 93078, eps=0.000014, min_samples=10)"
   ]
  },
  {
   "cell_type": "code",
   "execution_count": 67,
   "id": "8b737d4a-a04c-4a65-a70b-55df4950802a",
   "metadata": {},
   "outputs": [],
   "source": [
    "nypd_crash_stations_2022_bike = get_crash_geodata_yearly(data_nypd, 2022, only_bike=True)"
   ]
  },
  {
   "cell_type": "code",
   "execution_count": 68,
   "id": "ff6a6234-9ff9-4473-9eaf-8bcea604ef8e",
   "metadata": {},
   "outputs": [
    {
     "data": {
      "text/plain": [
       "4563"
      ]
     },
     "execution_count": 68,
     "metadata": {},
     "output_type": "execute_result"
    }
   ],
   "source": [
    "len(nypd_crash_stations_2022_bike.index)"
   ]
  },
  {
   "cell_type": "code",
   "execution_count": 77,
   "id": "151b6110-9899-4454-978d-25d143a1bc02",
   "metadata": {},
   "outputs": [
    {
     "data": {
      "text/html": [
       "<iframe\n",
       "    scrolling=\"no\"\n",
       "    width=\"820px\"\n",
       "    height=\"820\"\n",
       "    src=\"iframe_figures/figure_77.html\"\n",
       "    frameborder=\"0\"\n",
       "    allowfullscreen\n",
       "></iframe>\n"
      ]
     },
     "metadata": {},
     "output_type": "display_data"
    }
   ],
   "source": [
    "plot_positions(nypd_crash_stations_2022_bike)"
   ]
  },
  {
   "cell_type": "code",
   "execution_count": 76,
   "id": "7e9c4079-bfb6-4035-94bf-97dbdf18f03b",
   "metadata": {},
   "outputs": [
    {
     "name": "stdout",
     "output_type": "stream",
     "text": [
      "processing batch 0.0\n",
      "Number of clusters (excluding noise): 34\n"
     ]
    },
    {
     "data": {
      "text/html": [
       "<iframe\n",
       "    scrolling=\"no\"\n",
       "    width=\"820px\"\n",
       "    height=\"820\"\n",
       "    src=\"iframe_figures/figure_76.html\"\n",
       "    frameborder=\"0\"\n",
       "    allowfullscreen\n",
       "></iframe>\n"
      ]
     },
     "metadata": {},
     "output_type": "display_data"
    }
   ],
   "source": [
    "plot_positions_cluster(nypd_crash_stations_2022_bike, batch_size = 4563, eps=0.000012, min_samples=5)"
   ]
  },
  {
   "cell_type": "markdown",
   "id": "9e40a051-17b9-42f0-bc79-f0980f2e9e0b",
   "metadata": {},
   "source": [
    "# More Ideas:\n",
    "- Predict number of trips for given station at specific time\n",
    "- Could use e.g. random forest with station \n",
    "\n",
    "# Cooperation Ideas:\n",
    "- Citibike members have automatic health insurance\n",
    "- Insurance members have automatic citibike membership\n",
    "- Provide cheaper insurance rates for people with citibike membership\n",
    "  \n",
    "# Health insurance company would benefit from cooperation with citibike:\n",
    "- Less accidents compared to car --> promote bike usage over car\n",
    "- More exercise when using bike, older demographic become more mobile --> lower risk profile regarding health issues\n",
    "- Access to young demographic --> lower risk profile regarding health issues\n",
    "\n",
    "# Citibike would benefit from insurance:\n",
    "- Bike crashes have higher probability of death compared to car\n",
    "- Bike traffic highest on months, hours, and location where most crashes occur\n",
    "\n",
    "# Ideas to Increase Safety\n",
    "\n",
    "- Automatically plan safer routes based on crash hotspots\n",
    "- Cheaper rides when riding is safer: 1-10 am, after 22 pm."
   ]
  }
 ],
 "metadata": {
  "kernelspec": {
   "display_name": "Python 3 (ipykernel)",
   "language": "python",
   "name": "python3"
  },
  "language_info": {
   "codemirror_mode": {
    "name": "ipython",
    "version": 3
   },
   "file_extension": ".py",
   "mimetype": "text/x-python",
   "name": "python",
   "nbconvert_exporter": "python",
   "pygments_lexer": "ipython3",
   "version": "3.8.10"
  }
 },
 "nbformat": 4,
 "nbformat_minor": 5
}
